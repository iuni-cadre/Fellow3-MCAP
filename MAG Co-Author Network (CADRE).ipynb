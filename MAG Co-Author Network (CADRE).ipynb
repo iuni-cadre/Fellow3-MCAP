{
 "cells": [
  {
   "cell_type": "markdown",
   "metadata": {},
   "source": [
    "# Co-Author Network from Microsoft Academic Graph\n",
    "\n",
    "Requires an actual path to be included as `path_to_data` in the first cell below. This csv must contain columns named as referenced below.\n",
    "\n",
    "### Extracting data from CSV\n",
    "\n",
    "This first cell will fill out several dictionaries with data from the csv file:\n",
    "* **data_by_id**: article information keyed to article id.\n",
    "* **data_by_author**: author data keyed to author name; important to note for our data there was a 1:1 relationship between `author_id` and the author's `normalized_name`"
   ]
  },
  {
   "cell_type": "code",
   "execution_count": 16,
   "metadata": {
    "collapsed": false
   },
   "outputs": [],
   "source": [
    "import os\n",
    "import csv\n",
    "\n",
    "data_by_id = {}\n",
    "data_by_author = {}\n",
    "\n",
    "path_to_data = \"sourcedata/mag_sdg.csv\"\n",
    "\n",
    "# Read in source data and iterate row by row.\n",
    "with open(path_to_data) as datafile:\n",
    "    reader = csv.DictReader(datafile) \n",
    "    # Each row contains one article author; thus each article will have as many rows as authors.\n",
    "    for row in reader:\n",
    "        id_ = row[\"paper_id\"]\n",
    "        author_id = row[\"author_id\"]\n",
    "        author = row[\"author_name\"]\n",
    "\n",
    "        # Store data about each author for lookup by name.\n",
    "        if author not in data_by_author:\n",
    "            data_by_author[author] = {\n",
    "                \"author_name\": [row[\"author_name\"]],\n",
    "                \"affiliation_id\": [row[\"affiliation_id\"]],\n",
    "                \"last_known_affiliation_id\": [row[\"last_known_affiliation_id\"]],\n",
    "                \"affiliation_name\": [row[\"affiliation_name\"]],\n",
    "                \"doi\": [row[\"doi\"]] if row[\"doi\"] != \"\" else [],\n",
    "                \"paper_id\": [row[\"paper_id\"]]\n",
    "            }\n",
    "        \n",
    "        # If author is already in the dict, append additional affiliation and article info.\n",
    "        else:\n",
    "            for key in [\"author_name\", \"affiliation_id\", \"paper_id\", \n",
    "                        \"last_known_affiliation_id\", \"doi\", \"affiliation_name\"]:\n",
    "                if row[key] not in data_by_author[author][key]:\n",
    "                    data_by_author[author][key].append(row[key])\n",
    "        \n",
    "        # Store data about each article for lookup by article ID.\n",
    "        if id_ not in data_by_id:\n",
    "            data_by_id[id_] = {\n",
    "                \"doi\": row[\"doi\"],\n",
    "                \"doc_type\": row[\"doc_type\"],\n",
    "                \"title\": row[\"original_title\"],\n",
    "                \"year\": row[\"year\"],\n",
    "                \"authors\": [\n",
    "                    {\n",
    "                        \"author_id\": row[\"author_id\"],\n",
    "                        \"name\": row[\"author_name\"],\n",
    "                        \"last_known_affiliation_id\": [row[\"last_known_affiliation_id\"]],\n",
    "                        \"affiliation_id\": [row[\"affiliation_id\"]],\n",
    "                        \"affiliation_name\": [row[\"affiliation_name\"]],\n",
    "                    }\n",
    "                ],\n",
    "                \"all_author_names\": [row[\"author_name\"]]\n",
    "            }\n",
    "        # If article id already in dict, append additional author/affiliation data.\n",
    "        else:\n",
    "            author_name = row[\"author_name\"]\n",
    "            if author_name in data_by_id[id_][\"all_author_names\"]:\n",
    "                for a in data_by_id[id_][\"authors\"]:\n",
    "                    if a[\"name\"] == author_name:\n",
    "                        affiliation_id = row[\"affiliation_id\"]\n",
    "                        last_known = row[\"last_known_affiliation_id\"]\n",
    "                        normalized = row[\"affiliation_name\"]\n",
    "                        if affiliation_id not in a[\"affiliation_id\"]:\n",
    "                            a[\"affiliation_id\"].append(affiliation_id)\n",
    "                            a[\"affiliation_name\"].append(normalized)\n",
    "                            \n",
    "                        if last_known not in a[\"last_known_affiliation_id\"]:\n",
    "                            a[\"last_known_affiliation_id\"].append(last_known)\n",
    "                            \n",
    "            else:\n",
    "                new_author = {\n",
    "                    \"author_id\": row[\"author_id\"],\n",
    "                    \"name\": row[\"author_name\"],\n",
    "                    \"last_known_affiliation_id\": [row[\"last_known_affiliation_id\"]],\n",
    "                    \"affiliation_id\": [row[\"affiliation_id\"]],\n",
    "                    \"affiliation_name\": [row[\"affiliation_name\"]],\n",
    "                    }\n",
    "                data_by_id[id_][\"authors\"].append(new_author)\n",
    "                data_by_id[id_][\"all_author_names\"].append(author_name)           "
   ]
  },
  {
   "cell_type": "markdown",
   "metadata": {},
   "source": [
    "#### Check values for accuracy / highlight obvious issues"
   ]
  },
  {
   "cell_type": "code",
   "execution_count": 17,
   "metadata": {
    "collapsed": false
   },
   "outputs": [
    {
     "data": {
      "text/plain": [
       "35174"
      ]
     },
     "execution_count": 17,
     "metadata": {},
     "output_type": "execute_result"
    }
   ],
   "source": [
    "len(data_by_author)"
   ]
  },
  {
   "cell_type": "code",
   "execution_count": 18,
   "metadata": {
    "collapsed": false
   },
   "outputs": [
    {
     "data": {
      "text/plain": [
       "'e ngwenya'"
      ]
     },
     "execution_count": 18,
     "metadata": {},
     "output_type": "execute_result"
    }
   ],
   "source": [
    "list(data_by_author.keys())[0]"
   ]
  },
  {
   "cell_type": "code",
   "execution_count": 19,
   "metadata": {
    "collapsed": false
   },
   "outputs": [
    {
     "data": {
      "text/plain": [
       "{'author_name': ['e ngwenya'],\n",
       " 'affiliation_id': ['129801699'],\n",
       " 'last_known_affiliation_id': ['129801699'],\n",
       " 'affiliation_name': ['university of tasmania'],\n",
       " 'doi': ['10.1007/978-1-4899-7439-6_4', '10.1007/978-1-4899-7439-6_3'],\n",
       " 'paper_id': ['420720', '1560432272']}"
      ]
     },
     "execution_count": 19,
     "metadata": {},
     "output_type": "execute_result"
    }
   ],
   "source": [
    "data_by_author['e ngwenya']"
   ]
  },
  {
   "cell_type": "markdown",
   "metadata": {},
   "source": [
    "Many authors have multiple institutional affiliations:"
   ]
  },
  {
   "cell_type": "code",
   "execution_count": 20,
   "metadata": {
    "collapsed": false
   },
   "outputs": [
    {
     "name": "stdout",
     "output_type": "stream",
     "text": [
      "2315 authors with multiple affiliations\n"
     ]
    }
   ],
   "source": [
    "count = 0\n",
    "for author, data in data_by_author.items():\n",
    "    if len(data[\"affiliation_name\"]) > 1:\n",
    "        count += 1\n",
    "        # print(author, data)\n",
    "print(count, \"authors with multiple affiliations\")"
   ]
  },
  {
   "cell_type": "markdown",
   "metadata": {},
   "source": [
    "Compare total number of rows to number of unique rows to roughly estimate authors per paper."
   ]
  },
  {
   "cell_type": "code",
   "execution_count": 21,
   "metadata": {
    "collapsed": false
   },
   "outputs": [
    {
     "name": "stdout",
     "output_type": "stream",
     "text": [
      "16699 total papers, 44373 total authors\n"
     ]
    }
   ],
   "source": [
    "ids = []\n",
    "\n",
    "with open(path_to_data) as datafile:\n",
    "    \n",
    "    reader = csv.DictReader(datafile) \n",
    "    for row in reader:\n",
    "        id_ = row[\"paper_id\"]\n",
    "        ids.append(id_)\n",
    "print(len(set(ids)), \"total papers,\", len(ids), \"total authors\")"
   ]
  },
  {
   "cell_type": "markdown",
   "metadata": {},
   "source": [
    "### Building graph from author and article data"
   ]
  },
  {
   "cell_type": "markdown",
   "metadata": {},
   "source": [
    "First, create the complete graph of all co-authorship."
   ]
  },
  {
   "cell_type": "code",
   "execution_count": 22,
   "metadata": {
    "collapsed": false
   },
   "outputs": [],
   "source": [
    "from itertools import combinations\n",
    "import networkx as nx\n",
    "\n",
    "G = nx.Graph()\n",
    "\n",
    "for id_, data in data_by_id.items():\n",
    "    \n",
    "    authors = data[\"all_author_names\"]\n",
    "    \"\"\"\n",
    "    Iterate over all combinations of authors per paper.\n",
    "    For example if authors are Smith, Mizuno, and Garcia, iterate over 3 co-authorship combinations:\n",
    "        Mizuno Smith\n",
    "        Mizuno Garcia\n",
    "        Smith Garcia\n",
    "    Add nodes and edges as needed for each combo.  \n",
    "    \"\"\"\n",
    "    for i, j in combinations(authors, 2):\n",
    "        year = data[\"year\"]\n",
    "        if G.has_edge(i, j):\n",
    "            G[i][j][\"weight\"] += 1\n",
    "            if id_ not in G[i][j][\"articles\"]:\n",
    "                G[i][j][\"articles\"].append(id_)\n",
    "            \n",
    "            if year not in G[i][j][\"years\"]:\n",
    "                G[i][j][\"years\"].append(year)\n",
    "        else:\n",
    "            G.add_edge(i, j, weight=1, articles=[id_], years=[data[\"year\"]])\n",
    "\n",
    "# Go back and iterate over all nodes created, adding affiliation/count/author data.\n",
    "for author, data in G.nodes(data=True):\n",
    "    data[\"affiliation\"] = data_by_author[author][\"affiliation_name\"][0]\n",
    "    data[\"papers\"] = \"<br>\\n\".join(data_by_author[author][\"doi\"])\n",
    "    data[\"name\"] = \", \".join(data_by_author[author][\"author_name\"])    \n",
    "    data[\"count\"] = len(data_by_author[author][\"paper_id\"])"
   ]
  },
  {
   "cell_type": "code",
   "execution_count": 23,
   "metadata": {
    "collapsed": false
   },
   "outputs": [
    {
     "data": {
      "text/plain": [
       "80697"
      ]
     },
     "execution_count": 23,
     "metadata": {},
     "output_type": "execute_result"
    }
   ],
   "source": [
    "len(G.edges)"
   ]
  },
  {
   "cell_type": "code",
   "execution_count": 24,
   "metadata": {
    "collapsed": false
   },
   "outputs": [
    {
     "data": {
      "text/plain": [
       "29492"
      ]
     },
     "execution_count": 24,
     "metadata": {},
     "output_type": "execute_result"
    }
   ],
   "source": [
    "len(G.nodes)"
   ]
  },
  {
   "cell_type": "markdown",
   "metadata": {},
   "source": [
    "Create subgraph containing only those edges with a `weight` greater than 1, that is, co-author pairs who published more than 1 paper in the dataset."
   ]
  },
  {
   "cell_type": "code",
   "execution_count": 25,
   "metadata": {
    "collapsed": false
   },
   "outputs": [],
   "source": [
    "def filter_edge(n1, n2):\n",
    "    \"\"\"Check if weight is larger than 1.\"\"\"\n",
    "    return G[n1][n2][\"weight\"] > 1\n",
    "\n",
    "def filter_node(n):\n",
    "    \"\"\"Filter out unconnected nodes.\"\"\"\n",
    "    return not nx.is_isolate(view, n)\n",
    "\n",
    "view = nx.subgraph_view(G, filter_edge=filter_edge)\n",
    "subview = nx.subgraph_view(view, filter_node=filter_node)"
   ]
  },
  {
   "cell_type": "code",
   "execution_count": 26,
   "metadata": {
    "collapsed": false
   },
   "outputs": [
    {
     "data": {
      "text/plain": [
       "(3087, 2059)"
      ]
     },
     "execution_count": 26,
     "metadata": {},
     "output_type": "execute_result"
    }
   ],
   "source": [
    "len(subview.edges()), len(subview.nodes())"
   ]
  },
  {
   "cell_type": "markdown",
   "metadata": {},
   "source": [
    "Centrality Measures"
   ]
  },
  {
   "cell_type": "code",
   "execution_count": 13,
   "metadata": {
    "collapsed": false
   },
   "outputs": [
    {
     "name": "stdout",
     "output_type": "stream",
     "text": [
      "joy e lawn 0.01236321467654215\n",
      "jun zhu 0.006405415144562778\n",
      "david sanders 0.006347757520954072\n",
      "gorik ooms 0.005927307112196651\n",
      "wim van damme 0.005740194542988388\n",
      "robert e black 0.004718945601337216\n",
      "haidong wang 0.003959569756962626\n",
      "ties boerma 0.003104916131566342\n",
      "zulfiqar a bhutta 0.002976106231424614\n",
      "simon i hay 0.002917105449027309\n",
      "jennifer bryce 0.0027605209544109338\n",
      "alan d lopez 0.0023323971772294264\n",
      "mickey chopra 0.0021597209331496005\n",
      "martin mckee 0.0021496201786499725\n",
      "lale say 0.002013575122614477\n",
      "li liu 0.0017283642184230793\n",
      "peter s hill 0.0017159210904241315\n",
      "robert w snow 0.0016493019876191327\n",
      "andrew j tatem 0.001588356712224441\n",
      "colin d mathers 0.0015479434312387122\n",
      "jamie perin 0.0013953046600908043\n",
      "dina balabanova 0.0013011107630773679\n",
      "christopher j l murray 0.0010631415286625645\n",
      "bernadette daelmans 0.0009142211919973025\n",
      "abdisalan m noor 0.0009087460249743345\n",
      "josephine borghi 0.0008801631632582194\n",
      "sonja firth 0.0008760686486322196\n",
      "peter waiswa 0.0008759111673004503\n",
      "robert clive pattinson 0.0007414880876968724\n",
      "zoe matthews 0.000734650412703452\n",
      "wilbroad mutale 0.0007322881927269137\n",
      "neha s singh 0.0007322881927269137\n",
      "matthews mathai 0.0007052361595151724\n",
      "melisa martinezalvarez 0.000680863362618473\n",
      "danzhen you 0.0005978467520750077\n",
      "shams el arifeen 0.0005925315211957848\n",
      "james f phillips 0.0005905549941346078\n",
      "cesar g victora 0.0005896101061439924\n",
      "yanqiu gao 0.0005891376621486847\n",
      "maigeng zhou 0.0005891376621486847\n",
      "johnarne rottingen 0.0005877203301627617\n",
      "harry campbell 0.000563701095571172\n",
      "agbessi amouzou 0.0004690360524385125\n",
      "simon cousens 0.00046269411502158876\n",
      "ahmad reza hosseinpoor 0.00044244380160564817\n",
      "anne c c lee 0.0004422075796079943\n",
      "arjumand rizvi 0.0004422075796079943\n",
      "peter berman 0.00043298142329962846\n",
      "yan guo 0.0003893948547036591\n",
      "igor rudan 0.0003697736599062868\n"
     ]
    }
   ],
   "source": [
    "from operator import itemgetter\n",
    "\n",
    "cc = nx.closeness_centrality(subview)\n",
    "bc = nx.betweenness_centrality(subview)\n",
    "\n",
    "bc_sorted = sorted(bc.items(), key=itemgetter(1), reverse=True)\n",
    "cc_sorted = sorted(cc.items(), key=itemgetter(1), reverse=True)\n",
    "\n",
    "for name, value in bc_sorted[:50]:\n",
    "    print(name, value)"
   ]
  },
  {
   "cell_type": "markdown",
   "metadata": {},
   "source": [
    "### Output graph data as separate files containing `nodes` and `edges` for display in `flourish.studio`.\n",
    "\n",
    "Our platform for visualizing the graph, `flourish.studio` requires edge and node lists as comma-separated rows"
   ]
  },
  {
   "cell_type": "code",
   "execution_count": 14,
   "metadata": {
    "collapsed": false
   },
   "outputs": [],
   "source": [
    "import csv\n",
    "\n",
    "nx.write_edgelist(subview, \"mag_output_authors/mag_edges.tsv\", delimiter=\"\\t\", data=[\"weight\"])\n",
    "with open(\"mag_output_authors/mag_nodes.csv\", \"w\") as f:\n",
    "    fieldnames = [\"id\", \"affiliation\", \"papers\", \"name\", \"count\"]\n",
    "    writer = csv.DictWriter(f, fieldnames=fieldnames)\n",
    "    writer.writeheader()\n",
    "    for n, data in list(subview.nodes(data=True)):\n",
    "        row = data\n",
    "        row[\"id\"] = n\n",
    "        writer.writerow(row)"
   ]
  },
  {
   "cell_type": "code",
   "execution_count": 15,
   "metadata": {
    "collapsed": false
   },
   "outputs": [
    {
     "data": {
      "text/plain": [
       "14"
      ]
     },
     "execution_count": 15,
     "metadata": {},
     "output_type": "execute_result"
    }
   ],
   "source": [
    "max([subview[e][v][\"weight\"] for e, v in subview.edges])"
   ]
  }
 ],
 "metadata": {
  "kernelspec": {
   "display_name": "Python 3",
   "language": "python",
   "name": "python3"
  },
  "language_info": {
   "codemirror_mode": {
    "name": "ipython",
    "version": 3
   },
   "file_extension": ".py",
   "mimetype": "text/x-python",
   "name": "python",
   "nbconvert_exporter": "python",
   "pygments_lexer": "ipython3",
   "version": "3.6.5"
  }
 },
 "nbformat": 4,
 "nbformat_minor": 0
}
