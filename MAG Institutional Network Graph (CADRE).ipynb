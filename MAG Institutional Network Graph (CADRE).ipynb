{
 "cells": [
  {
   "cell_type": "markdown",
   "metadata": {},
   "source": [
    "# Institutional Network from Microsoft Academic Graph"
   ]
  },
  {
   "cell_type": "markdown",
   "metadata": {},
   "source": [
    "## Geocode Affiliations\n",
    "\n",
    "Attempt to automatically geocode institutions. Not all institutions will be able to be found and geocoded by our chosen (free) geocoding software. And some results will simply be wrong. To view the output of the code in the cell below, take a look at `geodata/geocoded.csv`."
   ]
  },
  {
   "cell_type": "code",
   "execution_count": null,
   "metadata": {
    "collapsed": false,
    "scrolled": false
   },
   "outputs": [],
   "source": [
    "import csv\n",
    "import googlemaps\n",
    "\n",
    "geocoded_data = {}\n",
    "\n",
    "with open(\"geodata/geocoded.csv\") as f:\n",
    "    reader = csv.DictReader(f)\n",
    "    for row in reader:\n",
    "        place = row[\"place\"]\n",
    "        geocoded_data[place] = row\n",
    "        del geocoded_data[place][\"place\"]\n",
    "        \n",
    "gmaps = googlemaps.Client(key='[insert key]')\n",
    "path_to_data = \"sourcedata/mag_sdg.csv\"\n",
    "\n",
    "with open(path_to_data) as datafile:\n",
    "    \n",
    "    reader = csv.DictReader(datafile)\n",
    "    for row in reader:\n",
    "        place = row[\"affiliation_name\"]\n",
    "        if place not in geocoded_data:\n",
    "            \n",
    "            try:\n",
    "                # Take first result with [0]\n",
    "                geocode_result = gmaps.geocode(place)[0]\n",
    "                country = None\n",
    "                for section in geocode_result[\"address_components\"]:\n",
    "                    if \"country\" in section[\"types\"]:\n",
    "                        country = section[\"long_name\"]\n",
    "                \n",
    "                locdata = {\n",
    "                    \"address\": geocode_result[\"formatted_address\"],\n",
    "                    \"latitude\": geocode_result[\"geometry\"][\"location\"][\"lat\"],\n",
    "                    \"longitude\": geocode_result[\"geometry\"][\"location\"][\"lng\"],\n",
    "                    \"country\": country \n",
    "                }\n",
    "                geocoded_data[place] = locdata\n",
    "                print(place, locdata[\"country\"])\n",
    "                \n",
    "            except Exception as e:\n",
    "                geocoded_data[place] = \"Null\"\n",
    "                print(\"====\", e)\n",
    "                print(\"====\", f\"Unable to locate {place}\")"
   ]
  },
  {
   "cell_type": "code",
   "execution_count": 43,
   "metadata": {
    "collapsed": false
   },
   "outputs": [
    {
     "data": {
      "text/plain": [
       "4705"
      ]
     },
     "execution_count": 43,
     "metadata": {},
     "output_type": "execute_result"
    }
   ],
   "source": [
    "len(geocoded_data)"
   ]
  },
  {
   "cell_type": "code",
   "execution_count": 44,
   "metadata": {
    "collapsed": false
   },
   "outputs": [
    {
     "data": {
      "text/plain": [
       "0"
      ]
     },
     "execution_count": 44,
     "metadata": {},
     "output_type": "execute_result"
    }
   ],
   "source": [
    "len([g for g in geocoded_data if geocoded_data[g] == \"Null\"])"
   ]
  },
  {
   "cell_type": "code",
   "execution_count": 47,
   "metadata": {
    "collapsed": false
   },
   "outputs": [],
   "source": [
    "# Output data to file.\n",
    "with open(\"geodata/geocoded.csv\", \"w\") as f:\n",
    "    \n",
    "    writer = csv.DictWriter(f, fieldnames=[\"place\", \"address\", \"latitude\", \"longitude\", \"country\"])\n",
    "    writer.writeheader()\n",
    "    for g, data in geocoded_data.items():\n",
    "        # print(type(data))\n",
    "        if data == \"Null\":\n",
    "            data = {\"address\": \"\", \"latitude\": \"\", \"longitude\": \"\", \"country\": \"\"}\n",
    "        data[\"place\"] = g\n",
    "        writer.writerow(data)"
   ]
  },
  {
   "cell_type": "markdown",
   "metadata": {},
   "source": [
    "Loading a data file that lists countries and continents ([Source](https://datahub.io/JohnSnowLabs/country-and-continent-codes-list))"
   ]
  },
  {
   "cell_type": "code",
   "execution_count": 7,
   "metadata": {
    "collapsed": true
   },
   "outputs": [],
   "source": [
    "import json\n",
    "with open(\"sourcedata/country-and-continent-codes-list.json\") as f:\n",
    "    countries = json.load(f)"
   ]
  },
  {
   "cell_type": "markdown",
   "metadata": {},
   "source": [
    "Creating a lookup devices for finding countries by name, then countries and other geo-information by affiliation."
   ]
  },
  {
   "cell_type": "code",
   "execution_count": 8,
   "metadata": {
    "collapsed": false
   },
   "outputs": [],
   "source": [
    "countries_by_name = {}\n",
    "for country in countries:\n",
    "    country_name = country[\"Country_Name\"].split(\",\")[0].strip()\n",
    "    countries_by_name[country_name] = country\n",
    "    \n",
    "with open(\"sourcedata/countries_by_name.json\", \"w\") as f:\n",
    "    json.dump(countries_by_name, f)"
   ]
  },
  {
   "cell_type": "markdown",
   "metadata": {},
   "source": [
    "At this point, `geocoded.csv` has been updated manually with country names not found by the Google geocoder (in this case about 250 values)."
   ]
  },
  {
   "cell_type": "code",
   "execution_count": 9,
   "metadata": {
    "collapsed": false
   },
   "outputs": [],
   "source": [
    "import csv\n",
    "\n",
    "geo_by_affiliation = {}\n",
    "with open(\"geodata/geocoded.csv\") as f:\n",
    "    reader = csv.DictReader(f)\n",
    "    for row in reader:\n",
    "        geo_by_affiliation[row[\"place\"]] = row\n",
    "        \n",
    "import json\n",
    "with open(\"geodata/geo_by_affiliation.json\", \"w\") as f:\n",
    "    json.dump(geo_by_affiliation, f)"
   ]
  },
  {
   "cell_type": "markdown",
   "metadata": {},
   "source": [
    "### Extracting data from CSV\n",
    "\n",
    "Fill out several dictionaries with data from the csv file.\n",
    "* **data_by_id**: article information keyed by article id.\n",
    "* **data_by_inst**: data about institutions keyed by the name of the institution."
   ]
  },
  {
   "cell_type": "code",
   "execution_count": 1,
   "metadata": {
    "collapsed": false,
    "scrolled": false
   },
   "outputs": [
    {
     "name": "stdout",
     "output_type": "stream",
     "text": [
      "Missing country Kashmir\n",
      "Missing country Kashmir\n",
      "Missing country Africa\n",
      "Missing country Kashmir\n",
      "Missing country Kashmir\n",
      "Missing country Kashmir\n",
      "Missing country Kashmir\n"
     ]
    }
   ],
   "source": [
    "import os\n",
    "import csv\n",
    "import json\n",
    "\n",
    "data_by_id = {}\n",
    "data_by_inst = {}\n",
    "year_by_id = {}\n",
    "\n",
    "missing_country_values = {\n",
    "    \"Kashmir\": \"Asia\",\n",
    "    \"Africa\": \"Africa\"\n",
    "}\n",
    "\n",
    "with open(\"geodata/geo_by_affiliation.json\") as f:\n",
    "    geo_by_affiliation = json.load(f)\n",
    "    \n",
    "with open(\"sourcedata/countries_by_name.json\") as f:\n",
    "    countries_by_name = json.load(f)\n",
    "\n",
    "with open(\"sourcedata/mag_sdg.csv\") as datafile:\n",
    "    \n",
    "    reader = csv.DictReader(datafile)\n",
    "    \n",
    "    for row in reader:\n",
    "        \n",
    "        id_ = row[\"paper_id\"]\n",
    "        author_id = row[\"author_id\"]\n",
    "        author = row[\"author_name\"]\n",
    "        inst = row[\"affiliation_name\"]\n",
    "        year = row[\"year\"]\n",
    "        year_by_id[id_] = year\n",
    "        \n",
    "        if id_ not in data_by_id:\n",
    "            data_by_id[id_] = [inst]\n",
    "        else:\n",
    "            if inst not in data_by_id[id_]:\n",
    "                data_by_id[id_].append(inst)\n",
    "        \n",
    "        if inst not in data_by_inst:\n",
    "            data_by_inst[inst] = {\n",
    "                \"affiliation_id\": [row[\"affiliation_id\"]],\n",
    "                \"affiliation_name\": [row[\"affiliation_name\"]],\n",
    "                \"author_name\": [row[\"author_name\"]],\n",
    "                \"doi\": [row[\"doi\"]] if row[\"doi\"] != \"\" else [],\n",
    "                \"paper_id\": [row[\"paper_id\"]],\n",
    "                \"year\": [row[\"year\"]],                \n",
    "            }\n",
    "            if inst in geo_by_affiliation:\n",
    "                country = geo_by_affiliation[inst][\"country\"]\n",
    "            else:\n",
    "                country = \"\"\n",
    "                print(\"Missing institution\", inst)\n",
    "                \n",
    "            if country != \"\":\n",
    "                if country in countries_by_name:\n",
    "                    continent = countries_by_name[country][\"Continent_Name\"]\n",
    "                else:\n",
    "                    print(\"Missing country\", country)\n",
    "                    continent = missing_country_values.get(country, \"Unknown\")\n",
    "            else:\n",
    "                print(\"Missing country\", country)\n",
    "                country = \"Unknown\"\n",
    "                continent = \"Unknown\"\n",
    "            \n",
    "            data_by_inst[inst][\"country\"] = country\n",
    "            data_by_inst[inst][\"continent\"] = continent\n",
    "        \n",
    "        else:\n",
    "            doi = row[\"doi\"]\n",
    "            if doi != \"\":\n",
    "                data_by_inst[inst][\"doi\"].append(doi)\n",
    "            for key in [\"affiliation_id\", \"affiliation_name\", \"author_name\", \"paper_id\", \"year\"]:\n",
    "                data_by_inst[inst][key].append(row[key])\n",
    "            \n",
    "            "
   ]
  },
  {
   "cell_type": "markdown",
   "metadata": {},
   "source": [
    "#### Check values for accuracy / highlight obvious issues"
   ]
  },
  {
   "cell_type": "code",
   "execution_count": 10,
   "metadata": {
    "collapsed": false
   },
   "outputs": [
    {
     "data": {
      "text/plain": [
       "dict_keys(['affiliation_id', 'affiliation_name', 'author_name', 'doi', 'paper_id', 'year', 'country', 'continent'])"
      ]
     },
     "execution_count": 10,
     "metadata": {},
     "output_type": "execute_result"
    }
   ],
   "source": [
    "data_by_inst['university of tasmania'].keys()"
   ]
  },
  {
   "cell_type": "code",
   "execution_count": 11,
   "metadata": {
    "collapsed": false
   },
   "outputs": [
    {
     "data": {
      "text/plain": [
       "'university of tasmania'"
      ]
     },
     "execution_count": 11,
     "metadata": {},
     "output_type": "execute_result"
    }
   ],
   "source": [
    "list(data_by_inst.keys())[0]"
   ]
  },
  {
   "cell_type": "code",
   "execution_count": null,
   "metadata": {
    "collapsed": false
   },
   "outputs": [],
   "source": [
    "data_by_inst['university of tasmania']"
   ]
  },
  {
   "cell_type": "markdown",
   "metadata": {},
   "source": [
    "### Building graph from institution and article data"
   ]
  },
  {
   "cell_type": "markdown",
   "metadata": {},
   "source": [
    "First, create the complete graph of all institutional collaborations."
   ]
  },
  {
   "cell_type": "code",
   "execution_count": 2,
   "metadata": {
    "collapsed": false
   },
   "outputs": [],
   "source": [
    "from itertools import combinations\n",
    "import networkx as nx\n",
    "\n",
    "G = nx.Graph()\n",
    "\n",
    "for id_, data in data_by_id.items():\n",
    "    \n",
    "    for i, j in combinations(data, 2):\n",
    "\n",
    "        if G.has_edge(i, j):\n",
    "            G[i][j][\"weight\"] += 1\n",
    "            G[i][j][\"years\"].append(year_by_id[id_])\n",
    "            if id_ not in G[i][j][\"articles\"]:\n",
    "                G[i][j][\"articles\"].append(id_)\n",
    "            \n",
    "        else:\n",
    "            # Attempt to determine 'scale' of geographic collaboration.\n",
    "            if data_by_inst[i][\"country\"] == \"Unknown\" or data_by_inst[j][\"country\"] == \"Unknown\":\n",
    "                connection_type = \"Unknown\"\n",
    "            elif data_by_inst[i][\"continent\"] != data_by_inst[j][\"continent\"]:\n",
    "                connection_type = \"trans-continental\"\n",
    "            elif data_by_inst[i][\"country\"] != data_by_inst[j][\"country\"]:\n",
    "                connection_type = \"international\"\n",
    "            elif data_by_inst[i][\"country\"] == data_by_inst[j][\"country\"]:\n",
    "                connection_type = \"domestic\"\n",
    "                        \n",
    "            G.add_edge(i, j, weight=1, articles=[id_], connection=connection_type, years=[year_by_id[id_]])\n",
    "\n",
    "for inst, data in G.nodes(data=True):\n",
    "    data[\"affiliation\"] = data_by_inst[inst][\"affiliation_name\"][0]\n",
    "    data[\"affiliation_label\"] = data_by_inst[inst][\"affiliation_name\"][0].title()\n",
    "    data[\"papers\"] = \"<br>\\n\".join(data_by_inst[inst][\"paper_id\"])\n",
    "    data[\"dois\"] = \"<br>\\n\".join(data_by_inst[inst][\"doi\"])\n",
    "    data[\"name\"] = \"<br>\\n\".join(list(set(data_by_inst[inst][\"author_name\"])))    \n",
    "    data[\"count\"] = len(data_by_inst[inst][\"paper_id\"])\n",
    "    data[\"country\"] = data_by_inst[inst][\"country\"]\n",
    "    data[\"continent\"] = data_by_inst[inst][\"continent\"]\n",
    "    data[\"domestic\"] = len([x for x in G[inst] if G[inst][x][\"connection\"] == \"domestic\"])\n",
    "    data[\"international\"] = len([x for x in G[inst] if G[inst][x][\"connection\"] \n",
    "                 in [\"trans-continental\", \"international\"]])\n",
    "    data[\"domestic_pct\"] = int(round(data[\"domestic\"] / (data[\"domestic\"] + data[\"international\"]) * 100))\n",
    "    data[\"international_pct\"] = int(round(data[\"international\"] / (data[\"domestic\"] + data[\"international\"]) * 100))\n",
    "    data[\"degree\"] = data[\"domestic\"] + data[\"international\"]\n",
    "    data[\"yearspan\"] = sorted(data_by_inst[inst][\"year\"])\n",
    "    max_year = max(data_by_inst[inst][\"year\"])\n",
    "    min_year = min(data_by_inst[inst][\"year\"])\n",
    "    if max_year == min_year:\n",
    "        data[\"year\"] = max_year\n",
    "    else:\n",
    "        data[\"year\"] = \"{0}–{1}\".format(min_year, max_year)"
   ]
  },
  {
   "cell_type": "code",
   "execution_count": 3,
   "metadata": {
    "collapsed": false
   },
   "outputs": [
    {
     "data": {
      "text/plain": [
       "20116"
      ]
     },
     "execution_count": 3,
     "metadata": {},
     "output_type": "execute_result"
    }
   ],
   "source": [
    "len(G.edges)"
   ]
  },
  {
   "cell_type": "code",
   "execution_count": 4,
   "metadata": {
    "collapsed": false
   },
   "outputs": [
    {
     "data": {
      "text/plain": [
       "3419"
      ]
     },
     "execution_count": 4,
     "metadata": {},
     "output_type": "execute_result"
    }
   ],
   "source": [
    "len(G.nodes)"
   ]
  },
  {
   "cell_type": "markdown",
   "metadata": {},
   "source": [
    "Create subgraph containing only those edges with a `weight` greater than 1."
   ]
  },
  {
   "cell_type": "code",
   "execution_count": 144,
   "metadata": {
    "collapsed": false
   },
   "outputs": [
    {
     "name": "stdout",
     "output_type": "stream",
     "text": [
      "145 105\n"
     ]
    }
   ],
   "source": [
    "def filter_edge(n1, n2):\n",
    "    \"\"\"Check if weight is larger than 1.\"\"\"\n",
    "    return G[n1][n2][\"weight\"] > 1\n",
    "\n",
    "def filter_node(n):\n",
    "    \"\"\"Filter out unconnected nodes.\"\"\"\n",
    "    return not nx.is_isolate(view, n)\n",
    "\n",
    "view = nx.subgraph_view(G, filter_edge=filter_edge)\n",
    "subview = nx.subgraph_view(view, filter_node=filter_node)\n",
    "print(len(subview.edges()), len(subview.nodes()))\n",
    "\n",
    "for inst, data in subview.nodes(data=True):\n",
    "    \n",
    "    data[\"domestic\"] = len([x for x in subview[inst] if subview[inst][x][\"connection\"] == \"domestic\"])\n",
    "    data[\"international\"] = len([x for x in subview[inst] if subview[inst][x][\"connection\"] \n",
    "                 in [\"trans-continental\", \"international\"]])\n",
    "    data[\"domestic_pct\"] = int(round(data[\"domestic\"] / (data[\"domestic\"] + data[\"international\"]) * 100))\n",
    "    data[\"international_pct\"] = int(round(data[\"international\"] / (data[\"domestic\"] + data[\"international\"]) * 100))\n",
    "    data[\"degree\"] = data[\"domestic\"] + data[\"international\"]"
   ]
  },
  {
   "cell_type": "markdown",
   "metadata": {},
   "source": [
    "Split graph into two graphs, one spanning the years 1999–2008 and another for 2009–2018."
   ]
  },
  {
   "cell_type": "code",
   "execution_count": 5,
   "metadata": {
    "collapsed": false,
    "scrolled": true
   },
   "outputs": [
    {
     "name": "stdout",
     "output_type": "stream",
     "text": [
      "767 3257\n",
      "1529 18970\n"
     ]
    }
   ],
   "source": [
    "G1 = nx.Graph()\n",
    "G2 = nx.Graph()\n",
    "\n",
    "def get_index_point(values, greater_than=2008):\n",
    "    \"\"\"Find index in list after which values are greater than\n",
    "    `greater_than` parameter.\"\"\"\n",
    "    index = len(values)\n",
    "    for i,v in enumerate(values):\n",
    "        if int(v) > greater_than:\n",
    "            index = i\n",
    "            break\n",
    "    return index\n",
    "        \n",
    "for e in G.edges(data=True):\n",
    "\n",
    "    years = e[2][\"years\"]\n",
    "    split_index = get_index_point(years)\n",
    "    if years[0:split_index]:\n",
    "        g1_years = years[0:split_index]\n",
    "        g1_data = {\n",
    "            \"weight\": len(g1_years),\n",
    "            \"years\": g1_years,\n",
    "            \"articles\": e[2][\"articles\"][0:split_index],\n",
    "            \"connection\": e[2][\"connection\"]\n",
    "        }\n",
    "        G1.add_edge(e[0], e[1], **g1_data)\n",
    "    if years[split_index:]:\n",
    "        g2_years = years[split_index:]\n",
    "        g2_data = {\n",
    "            \"weight\": len(g2_years),\n",
    "            \"years\": g2_years,\n",
    "            \"articles\": e[2][\"articles\"][split_index:],\n",
    "            \"connection\": e[2][\"connection\"]\n",
    "        }\n",
    "        G2.add_edge(e[0], e[1], **g2_data)\n",
    "\n",
    "print(len(G1.nodes), len(G2.nodes))\n",
    "print(len(G1.edges), len(G2.edges))\n",
    "for graph in [G1, G2]:\n",
    "    for inst, data in graph.nodes(data=True):\n",
    "        data[\"affiliation\"] = data_by_inst[inst][\"affiliation_name\"][0]\n",
    "        data[\"affiliation_label\"] = data_by_inst[inst][\"affiliation_name\"][0].title()\n",
    "        data[\"papers\"] = \"<br>\\n\".join(data_by_inst[inst][\"paper_id\"])\n",
    "        data[\"dois\"] = \"<br>\\n\".join(data_by_inst[inst][\"doi\"])\n",
    "        data[\"name\"] = \"<br>\\n\".join(list(set(data_by_inst[inst][\"author_name\"])))    \n",
    "        data[\"count\"] = len(data_by_inst[inst][\"paper_id\"])\n",
    "        data[\"country\"] = data_by_inst[inst][\"country\"]\n",
    "        data[\"continent\"] = data_by_inst[inst][\"continent\"]\n",
    "        data[\"domestic\"] = len([x for x in graph[inst] if graph[inst][x][\"connection\"] == \"domestic\"])\n",
    "        data[\"international\"] = len([x for x in graph[inst] if graph[inst][x][\"connection\"] \n",
    "                     in [\"trans-continental\", \"international\"]])\n",
    "        data[\"domestic_pct\"] = int(round(data[\"domestic\"] / (data[\"domestic\"] + data[\"international\"]) * 100))\n",
    "        data[\"international_pct\"] = int(round(data[\"international\"] / (data[\"domestic\"] + data[\"international\"]) * 100))\n",
    "        data[\"degree\"] = data[\"domestic\"] + data[\"international\"]\n",
    "        data[\"yearspan\"] = sorted(data_by_inst[inst][\"year\"])\n",
    "        max_year = max(data_by_inst[inst][\"year\"])\n",
    "        min_year = min(data_by_inst[inst][\"year\"])\n",
    "        if max_year == min_year:\n",
    "            data[\"year\"] = max_year\n",
    "        else:\n",
    "            data[\"year\"] = \"{0}–{1}\".format(min_year, max_year)"
   ]
  },
  {
   "cell_type": "markdown",
   "metadata": {},
   "source": [
    "Filter each graph by weight > 1"
   ]
  },
  {
   "cell_type": "code",
   "execution_count": 10,
   "metadata": {
    "collapsed": false
   },
   "outputs": [
    {
     "name": "stdout",
     "output_type": "stream",
     "text": [
      "145 105\n"
     ]
    }
   ],
   "source": [
    "# G1\n",
    "G1subview = None\n",
    "\n",
    "def filter_edge(n1, n2):\n",
    "    \"\"\"Check if weight is larger than 1.\"\"\"\n",
    "    return G1[n1][n2][\"weight\"] > 1\n",
    "\n",
    "def filter_node(n):\n",
    "    \"\"\"Filter out unconnected nodes.\"\"\"\n",
    "    return not nx.is_isolate(G1view, n)\n",
    "\n",
    "G1view = nx.subgraph_view(G1, filter_edge=filter_edge)\n",
    "G1subview = nx.subgraph_view(G1view, filter_node=filter_node)\n",
    "\n",
    "for inst, data in G1subview.nodes(data=True):\n",
    "\n",
    "    data[\"domestic\"] = len([x for x in G1subview[inst] if G1subview[inst][x][\"connection\"] == \"domestic\"])\n",
    "    data[\"international\"] = len([x for x in G1subview[inst] if G1subview[inst][x][\"connection\"] \n",
    "                 in [\"trans-continental\", \"international\"]])\n",
    "    data[\"domestic_pct\"] = int(round(data[\"domestic\"] / (data[\"domestic\"] + data[\"international\"]) * 100))\n",
    "    data[\"international_pct\"] = int(round(data[\"international\"] / (data[\"domestic\"] + data[\"international\"]) * 100))\n",
    "    data[\"degree\"] = data[\"domestic\"] + data[\"international\"]\n",
    "\n",
    "print(len(G1subview.edges()), len(G1subview.nodes()))\n"
   ]
  },
  {
   "cell_type": "code",
   "execution_count": 11,
   "metadata": {
    "collapsed": false
   },
   "outputs": [
    {
     "name": "stdout",
     "output_type": "stream",
     "text": [
      "2089 751\n"
     ]
    }
   ],
   "source": [
    "# G2\n",
    "\n",
    "def filter_edge(n1, n2):\n",
    "    \"\"\"Check if weight is larger than 1.\"\"\"\n",
    "    return G2[n1][n2][\"weight\"] > 1\n",
    "\n",
    "def filter_node(n):\n",
    "    \"\"\"Filter out unconnected nodes.\"\"\"\n",
    "    return not nx.is_isolate(G2view, n)\n",
    "\n",
    "G2view = nx.subgraph_view(G2, filter_edge=filter_edge)\n",
    "G2subview = nx.subgraph_view(G2view, filter_node=filter_node)\n",
    "\n",
    "for inst, data in G2subview.nodes(data=True):\n",
    "    \n",
    "    data[\"domestic\"] = len([x for x in G2subview[inst] if G2subview[inst][x][\"connection\"] == \"domestic\"])\n",
    "    data[\"international\"] = len([x for x in G2subview[inst] if G2subview[inst][x][\"connection\"] \n",
    "                 in [\"trans-continental\", \"international\"]])\n",
    "    data[\"domestic_pct\"] = int(round(data[\"domestic\"] / (data[\"domestic\"] + data[\"international\"]) * 100))\n",
    "    data[\"international_pct\"] = int(round(data[\"international\"] / (data[\"domestic\"] + data[\"international\"]) * 100))\n",
    "    data[\"degree\"] = data[\"domestic\"] + data[\"international\"]\n",
    "\n",
    "print(len(G2subview.edges()), len(G2subview.nodes()))\n"
   ]
  },
  {
   "cell_type": "code",
   "execution_count": 13,
   "metadata": {
    "collapsed": false
   },
   "outputs": [
    {
     "name": "stdout",
     "output_type": "stream",
     "text": [
      "--------------\n",
      "Name: \n",
      "Type: Graph\n",
      "Number of nodes: 105\n",
      "Number of edges: 145\n",
      "Average degree:   2.7619\n",
      "--------------\n",
      "Name: \n",
      "Type: Graph\n",
      "Number of nodes: 751\n",
      "Number of edges: 2089\n",
      "Average degree:   5.5632\n"
     ]
    }
   ],
   "source": [
    "C_GRAPH = [G1subview, G2subview]\n",
    "\n",
    "for g in C_GRAPH:\n",
    "    print(\"--------------\")\n",
    "    print(nx.info(g))\n"
   ]
  },
  {
   "cell_type": "code",
   "execution_count": 14,
   "metadata": {
    "collapsed": false
   },
   "outputs": [
    {
     "name": "stdout",
     "output_type": "stream",
     "text": [
      "0.026556776556776556\n",
      "0.007417665335108744\n"
     ]
    }
   ],
   "source": [
    "for g in C_GRAPH:\n",
    "    print(nx.density(g))"
   ]
  },
  {
   "cell_type": "code",
   "execution_count": 15,
   "metadata": {
    "collapsed": false
   },
   "outputs": [
    {
     "name": "stdout",
     "output_type": "stream",
     "text": [
      "0.36705882352941177\n",
      "0.19259289606292762\n"
     ]
    }
   ],
   "source": [
    "from networkx import transitivity\n",
    "for g in C_GRAPH:\n",
    "    print(transitivity(g))"
   ]
  },
  {
   "cell_type": "code",
   "execution_count": 16,
   "metadata": {
    "collapsed": false
   },
   "outputs": [
    {
     "name": "stdout",
     "output_type": "stream",
     "text": [
      "20\n",
      "49\n"
     ]
    }
   ],
   "source": [
    "components = []\n",
    "components_lens = []\n",
    "for g in C_GRAPH:\n",
    "    c = list(nx.connected_components(g))\n",
    "    components.append(c)\n",
    "    components_lens.append(len(c))\n",
    "for x in components_lens:\n",
    "    print(x)"
   ]
  },
  {
   "cell_type": "code",
   "execution_count": 17,
   "metadata": {
    "collapsed": false
   },
   "outputs": [
    {
     "name": "stdout",
     "output_type": "stream",
     "text": [
      "0\n",
      "1\n"
     ]
    }
   ],
   "source": [
    "largest = []\n",
    "subgraphs = {}\n",
    "\n",
    "for i,c in enumerate(components):\n",
    "    print(i)\n",
    "    largest_component = max(c, key=len)\n",
    "    subgraphs[i] = C_GRAPH[i].subgraph(largest_component)\n",
    "    # diameter = nx.diameter(subgraph)\n",
    "    # print(\"Network diameter of largest component:\", diameter)\n",
    "\n",
    "for i,g in enumerate(components):\n",
    "    print(\"Graph\", i)\n",
    "    for c in g:\n",
    "        print(len(c))"
   ]
  },
  {
   "cell_type": "code",
   "execution_count": 19,
   "metadata": {
    "collapsed": false
   },
   "outputs": [
    {
     "name": "stdout",
     "output_type": "stream",
     "text": [
      "----------------------\n",
      "Class 0: 42\n",
      "Class 1: 4\n",
      "Class 2: 4\n",
      "Class 3: 3\n",
      "Class 4: 3\n",
      "----------------------\n",
      "Class 0: 496\n",
      "Class 1: 48\n",
      "Class 2: 11\n",
      "Class 3: 10\n",
      "Class 4: 6\n",
      "Class 5: 5\n",
      "Class 6: 5\n",
      "Class 7: 5\n",
      "Class 8: 4\n",
      "Class 9: 4\n",
      "Class 10: 4\n",
      "Class 11: 3\n",
      "Class 12: 3\n",
      "Class 13: 3\n",
      "Class 14: 3\n",
      "Class 15: 3\n"
     ]
    }
   ],
   "source": [
    "from networkx.algorithms import community\n",
    "mod_communities = []\n",
    "for s in subgraphs:\n",
    "    print(\"----------------------\")\n",
    "    cgraph = subgraphs[s]\n",
    "    communities = community.greedy_modularity_communities(cgraph)\n",
    "    mod_communities.append(communities)\n",
    "    for i,c in enumerate(communities):\n",
    "        if len(c) > 2: # Filter out modularity classes with 2 or fewer nodes\n",
    "            print('Class '+str(i)+':', len(list(c)))"
   ]
  },
  {
   "cell_type": "code",
   "execution_count": 20,
   "metadata": {
    "collapsed": false
   },
   "outputs": [],
   "source": [
    "for j, mc in enumerate(mod_communities):\n",
    "    \n",
    "    modularity_dict = {} # Create a blank dictionary\n",
    "    for i,c in enumerate(mc): # Loop through the list of communities, keeping track of the number for the community\n",
    "        for name in c: # Loop through each person in a community\n",
    "            modularity_dict[name] = i # Create an entry in the dictionary for the person, where the value is which group they belong to.\n",
    "\n",
    "    # Now you can add modularity information like we did the other metrics\n",
    "    nx.set_node_attributes(subgraphs[j], modularity_dict, 'modularity')"
   ]
  },
  {
   "cell_type": "markdown",
   "metadata": {},
   "source": [
    "Create egograph."
   ]
  },
  {
   "cell_type": "code",
   "execution_count": 27,
   "metadata": {
    "collapsed": false
   },
   "outputs": [
    {
     "name": "stdout",
     "output_type": "stream",
     "text": [
      "119 120\n"
     ]
    }
   ],
   "source": [
    "node_of_interest = \"world health organization\"\n",
    "def filter_edge_ego(n1, n2):\n",
    "    \"\"\"Check if weight is larger than 1.\"\"\"\n",
    "    return node_of_interest in [n1, n2] and G[n1][n2][\"weight\"] > 1\n",
    "\n",
    "def filter_node_ego(n):\n",
    "    \"\"\"Filter out unconnected nodes.\"\"\"\n",
    "    return not nx.is_isolate(ego_view_edge, n)\n",
    "\n",
    "ego_view_edge = nx.subgraph_view(G, filter_edge=filter_edge_ego)\n",
    "ego_view = nx.subgraph_view(ego_view_edge, filter_node=filter_node_ego)\n",
    "print(len(ego_view.edges()), len(ego_view.nodes()))\n",
    "\n",
    "for inst, data in ego_view.nodes(data=True):\n",
    "    \n",
    "    data[\"domestic\"] = len([x for x in ego_view[inst] if ego_view[inst][x][\"connection\"] == \"domestic\"])\n",
    "    data[\"international\"] = len([x for x in ego_view[inst] if ego_view[inst][x][\"connection\"] \n",
    "                 in [\"trans-continental\", \"international\"]])\n",
    "    data[\"domestic_pct\"] = int(round(data[\"domestic\"] / (data[\"domestic\"] + data[\"international\"]) * 100))\n",
    "    data[\"international_pct\"] = int(round(data[\"international\"] / (data[\"domestic\"] + data[\"international\"]) * 100))\n",
    "    data[\"degree\"] = data[\"domestic\"] + data[\"international\"]"
   ]
  },
  {
   "cell_type": "markdown",
   "metadata": {},
   "source": [
    "Create subgraph containing only the most closely connected nodes."
   ]
  },
  {
   "cell_type": "code",
   "execution_count": 41,
   "metadata": {
    "collapsed": false
   },
   "outputs": [
    {
     "name": "stdout",
     "output_type": "stream",
     "text": [
      "113 20\n"
     ]
    }
   ],
   "source": [
    "from operator import itemgetter\n",
    "measure_sorted = sorted(dc.items(), key=itemgetter(1), reverse=True)\n",
    "nodes_to_keep = [n[0] for n in measure_sorted[:20]]\n",
    "\n",
    "def filter_node_for_value(n):\n",
    "    \"\"\"Filter out unconnected nodes.\"\"\"\n",
    "    return n in nodes_to_keep\n",
    "\n",
    "closeness_view = nx.subgraph_view(subview, filter_node=filter_node_for_value)\n",
    "\n",
    "print(len(closeness_view.edges()), len(closeness_view.nodes()))\n",
    "\n",
    "for inst, data in closeness_view.nodes(data=True):\n",
    "\n",
    "    data[\"domestic\"] = len([x for x in closeness_view[inst] if closeness_view[inst][x][\"connection\"] == \"domestic\"])\n",
    "    data[\"international\"] = len([x for x in closeness_view[inst] if closeness_view[inst][x][\"connection\"] \n",
    "                 in [\"trans-continental\", \"international\"]])\n",
    "    data[\"domestic_pct\"] = int(round(data[\"domestic\"] / (data[\"domestic\"] + data[\"international\"]) * 100))\n",
    "    data[\"international_pct\"] = int(round(data[\"international\"] / (data[\"domestic\"] + data[\"international\"]) * 100))\n",
    "    data[\"degree\"] = data[\"domestic\"] + data[\"international\"]"
   ]
  },
  {
   "cell_type": "code",
   "execution_count": 26,
   "metadata": {
    "collapsed": false
   },
   "outputs": [
    {
     "name": "stdout",
     "output_type": "stream",
     "text": [
      "world health organization 0.3864639705656355\n",
      "university of london 0.3850317384325942\n",
      "columbia university 0.37349693500441583\n",
      "harvard university 0.37282678500141747\n",
      "johns hopkins university 0.36475505238289646\n",
      "university of washington 0.3543868018887834\n",
      "imperial college london 0.3515884853482064\n",
      "stanford university 0.3502058340013315\n",
      "university of cape town 0.34942061912688904\n",
      "university college london 0.34786070564864396\n",
      "university of oxford 0.34689281275590983\n",
      "university of melbourne 0.3457384273557238\n",
      "australian national university 0.3425090024848187\n",
      "university of the witwatersrand 0.3391547249849674\n",
      "unicef 0.33897030153473084\n",
      "commonwealth scientific and industrial research organisation 0.33823460907345093\n",
      "united nations 0.3367727631131119\n",
      "king s college london 0.3351432174851452\n",
      "world bank 0.33424471019966223\n",
      "university of toronto 0.33406558656075563\n",
      "duke university 0.33317284047160345\n",
      "university of british columbia 0.33157786410764367\n",
      "university of queensland 0.33122549655811373\n",
      "university of california berkeley 0.3303478455338474\n",
      "international institute for applied systems analysis 0.32877973867213606\n",
      "university of leeds 0.3251780826929421\n",
      "aga khan university 0.3234905991294084\n",
      "university of florida 0.3206617204333179\n",
      "university of sydney 0.320496855795563\n",
      "save the children 0.320496855795563\n",
      "stellenbosch university 0.3185316221371334\n",
      "university of california san francisco 0.3178818890986079\n",
      "cornell university 0.3175580155488385\n",
      "university of southampton 0.31499059349286007\n",
      "yale university 0.3148315073345303\n",
      "university of michigan 0.31467258178817265\n",
      "university of edinburgh 0.3140384808676927\n",
      "stockholm university 0.3129349319891416\n",
      "medical research council 0.311683192261185\n",
      "lund university 0.3115274285469115\n",
      "university of the western cape 0.3113718204407443\n",
      "university of twente 0.3112163677096206\n",
      "makerere university 0.31090592744257856\n",
      "wageningen university and research centre 0.31044142655496515\n",
      "bill melinda gates foundation 0.31044142655496515\n",
      "karolinska institutet 0.31028690120575914\n",
      "university of auckland 0.31013252961311943\n",
      "utrecht university 0.309824246780502\n",
      "university of reading 0.3095165762275919\n",
      "university of north carolina at chapel hill 0.3090562144384581\n",
      "peking university 0.30875006662821697\n",
      "emory university 0.30813958701056354\n",
      "university of sao paulo 0.3076833092410513\n",
      "university of new south wales 0.3063225476768403\n",
      "boston children s hospital 0.30557175711880885\n",
      "university of california davis 0.3052724703831391\n",
      "university of manchester 0.3052724703831391\n",
      "national institutes of health 0.30512304675593244\n",
      "university of pennsylvania 0.3046756522592229\n",
      "university of cambridge 0.3043781174425635\n",
      "university of colorado boulder 0.3040811631816439\n",
      "liverpool school of tropical medicine 0.3040811631816439\n",
      "international food policy research institute 0.3039329032288493\n",
      "max planck society 0.3039329032288493\n",
      "international centre for diarrhoeal disease research bangladesh 0.30363681662073555\n",
      "brigham and women s hospital 0.3034889895435102\n",
      "conservation international 0.303193766791036\n",
      "institute of tropical medicine antwerp 0.3028991178437172\n",
      "rutgers university 0.3028991178437172\n",
      "chinese academy of sciences 0.30260504103027674\n",
      "stockholm environment institute 0.30143442191603964\n",
      "queen mary university of london 0.300852502182611\n",
      "university of east anglia 0.29983953079479075\n",
      "bioversity international 0.29912014612397797\n",
      "public health foundation of india 0.2986901698717633\n",
      "umea university 0.29840420513277643\n",
      "university of minnesota 0.2979762832324905\n",
      "university of copenhagen 0.29769168315299427\n",
      "arizona state university 0.2972658009167239\n",
      "university of nairobi 0.2972658009167239\n",
      "ghent university 0.29712411083049095\n",
      "university of amsterdam 0.29712411083049095\n",
      "south african medical research council 0.2965586986310038\n",
      "northwestern university 0.2962767987273622\n",
      "centers for disease control and prevention 0.2962767987273622\n",
      "la trobe university 0.29613604965433254\n",
      "netherlands environmental assessment agency 0.29613604965433254\n",
      "university of york 0.2957146036633634\n",
      "university of malawi 0.2954343054608389\n",
      "potsdam institute for climate impact research 0.2954343054608389\n",
      "rti international 0.2944574324621493\n",
      "wellcome trust 0.2937636119332564\n",
      "university of exeter 0.2927977381504791\n",
      "university of zambia 0.2927977381504791\n",
      "vanderbilt university 0.2927977381504791\n",
      "griffith university 0.29252293971016896\n",
      "university of pretoria 0.29252293971016896\n",
      "tufts university 0.29252293971016896\n",
      "lancaster university 0.29252293971016896\n",
      "swiss tropical and public health institute 0.2922486565974543\n",
      "university of connecticut 0.29211170783616214\n",
      "national oceanic and atmospheric administration 0.2919748873641077\n",
      "royal children s hospital 0.2918381950011095\n",
      "ifakara health institute 0.2918381950011095\n",
      "university of aberdeen 0.2918381950011095\n",
      "united nations population fund 0.2912927030478365\n",
      "boston university 0.2912927030478365\n",
      "university of warwick 0.2910207210655322\n",
      "james cook university 0.290613699078028\n",
      "monash university 0.29047827796941755\n",
      "united nations development programme 0.2899378532662186\n",
      "cayetano heredia university 0.2895338525417418\n",
      "university of california 0.2893994357114067\n",
      "state university of campinas 0.2893994357114067\n",
      "university of arizona 0.2892651436298701\n",
      "brac university 0.28899693301917945\n",
      "university of oslo 0.28846200116722354\n",
      "the george institute for global health 0.2883285774849075\n",
      "university of liverpool 0.2881952771716921\n",
      "federal university of rio de janeiro 0.2879290459687621\n",
      "stockholm resilience centre 0.2879290459687621\n",
      "university of alaska fairbanks 0.2877961147379363\n",
      "mcgill university 0.2877961147379363\n",
      "college of health sciences bahrain 0.2877961147379363\n",
      "cgiar 0.2877961147379363\n",
      "international center for tropical agriculture 0.28753062016714487\n",
      "michigan state university 0.28739805648795297\n",
      "university of bristol 0.28726561498726727\n",
      "international livestock research institute 0.2867370673975943\n",
      "new york university 0.28660523426315865\n",
      "international union against tuberculosis and lung disease 0.28660523426315865\n",
      "united states agency for international development 0.28634193133779057\n",
      "university of barcelona 0.2858167741964099\n",
      "mahidol university 0.2856857857572731\n",
      "partners in health 0.2855549173258681\n",
      "university of maryland baltimore 0.28529353982717165\n",
      "sichuan university 0.2851630304310933\n",
      "washington state university 0.2850326403851715\n",
      "world bank group 0.2847722176895249\n",
      "university of kwazulu natal 0.28464218471341096\n",
      "heidelberg university 0.28451227043467364\n",
      "center for global development 0.2841232381596946\n",
      "joint united nations programme on hiv aids 0.283735268330619\n",
      "chinese center for disease control and prevention 0.283735268330619\n",
      "university of victoria 0.28321962040998183\n",
      "university of illinois at urbana champaign 0.28309100114549046\n",
      "university of utah 0.28296249864837497\n",
      "princeton university 0.2825776901733318\n",
      "kathmandu 0.28244965315920706\n",
      "durham university 0.28206623734043895\n",
      "children s memorial hospital 0.28130252009132223\n",
      "university of ghana 0.2811756357791475\n",
      "national institute for medical research 0.2811756357791475\n",
      "universidade federal de pelotas 0.2807956687037703\n",
      "university of southern california 0.2806692411176812\n",
      "pan american health organization 0.2804167271805533\n",
      "royal institute of technology 0.2802906405226484\n",
      "ministry of health and family welfare 0.28016466720106514\n",
      "university of gothenburg 0.2797874257281732\n",
      "university of the philippines 0.2797874257281732\n",
      "university of surrey 0.2795364953015112\n",
      "san diego state university 0.2795364953015112\n",
      "university of otago 0.2795364953015112\n",
      "university of rhode island 0.27941119879980725\n",
      "northumbria university 0.27941119879980725\n",
      "international water management institute 0.2792860145709543\n",
      "ministry of health and social welfare 0.27916094246411555\n",
      "pennsylvania state university 0.2790359823287243\n",
      "royal veterinary college 0.2790359823287243\n",
      "united states department of agriculture 0.27878639737136407\n",
      "burnet institute 0.27866177224960664\n",
      "national autonomous university of mexico 0.2785372584997185\n",
      "university of geneva 0.2785372584997185\n",
      "the chinese university of hong kong 0.2785372584997185\n",
      "centre for the aids programme of research in south africa 0.27804031423834524\n",
      "massachusetts institute of technology 0.27791635511474366\n",
      "world food programme 0.27791635511474366\n",
      "federal ministry of health 0.2775451400366741\n",
      "helmholtz centre for environmental research ufz 0.2770517264543867\n",
      "icahn school of medicine at mount sinai 0.27680567696375225\n",
      "center for international forestry research 0.27570384100945156\n",
      "tulane university 0.27570384100945156\n",
      "national university of rwanda 0.2755819560222679\n",
      "university of california santa barbara 0.2754601787549138\n",
      "university of california los angeles 0.2754601787549138\n",
      "rockefeller foundation 0.2750954918457061\n",
      "university of glasgow 0.2749741440328055\n",
      "kenya medical research institute 0.27473176929148085\n",
      "ucl institute of child health 0.27448982145414796\n",
      "george mason university 0.2743690072721699\n",
      "london school of economics and political science 0.27424829939391554\n",
      "food and agriculture organization 0.27352627666624396\n",
      "national university of singapore 0.27340630900103946\n",
      "rothamsted research 0.27340630900103946\n",
      "university of virginia 0.2728080457428315\n",
      "university of split 0.27256947290003064\n",
      "oregon state university 0.2723313169604063\n",
      "tsinghua university 0.271974862357055\n",
      "university of ottawa 0.27185625142711295\n",
      "trinity college 0.2716193396611634\n",
      "george washington university 0.2715010385550392\n",
      "university of bergen 0.27138284045379624\n",
      "georgetown university 0.2711467527283036\n",
      "university of nottingham 0.27079339032248917\n",
      "world resources institute 0.27055832661561197\n",
      "university of tokyo 0.27008942137017766\n",
      "dartmouth college 0.2698555777153117\n",
      "spanish national research council 0.26973880766870184\n",
      "university of south florida 0.26973880766870184\n",
      "university of basel 0.26962213863424306\n",
      "suny downstate medical center 0.2695055704809209\n",
      "temple university 0.2693891030779473\n",
      "east carolina university 0.2693891030779473\n",
      "university of toledo 0.2693891030779473\n",
      "st luke s university health network 0.2693891030779473\n",
      "mercy medical center 0.2693891030779473\n",
      "summa health system 0.2693891030779473\n",
      "queensland university of technology 0.2692727362947603\n",
      "overseas development institute 0.2692727362947603\n",
      "vanderbilt university medical center 0.2692727362947603\n",
      "sheffield hallam university 0.26915647000102333\n",
      "tshwane university of technology 0.26892423836167817\n",
      "university of indonesia 0.2686924071217112\n",
      "norwegian institute of public health 0.2685766413280353\n",
      "deakin university 0.2684609752464987\n",
      "university of gottingen 0.2684609752464987\n",
      "university of the west of england 0.2683454087483298\n",
      "institut de recherche pour le developpement 0.2678841360216459\n",
      "university of bern 0.267769065516482\n",
      "university of the philippines manila 0.26753922082505155\n",
      "university of bath 0.26753922082505155\n",
      "ministry of health and social services 0.26753922082505155\n",
      "guttmacher institute 0.26753922082505155\n",
      "paris descartes university 0.26753922082505155\n",
      "university of essex 0.26753922082505155\n",
      "university of manitoba 0.26753922082505155\n",
      "the global fund to fight aids tuberculosis and malaria 0.26753922082505155\n",
      "national health service 0.26753922082505155\n",
      "health effects institute 0.26753922082505155\n",
      "international aids society 0.26753922082505155\n",
      "university of chicago 0.26719519267997\n",
      "medecins sans frontieres 0.26708071316296916\n",
      "massachusetts eye and ear infirmary 0.26696633170122913\n",
      "european observatory on health systems and policies 0.26685204816882274\n",
      "national and kapodistrian university of athens 0.26685204816882274\n",
      "graduate institute of international and development studies 0.26685204816882274\n",
      "government of south africa 0.26685204816882274\n",
      "march of dimes 0.26685204816882274\n",
      "marie stopes international 0.26685204816882274\n",
      "university of buea 0.26685204816882274\n",
      "international organization for migration 0.26685204816882274\n",
      "bocconi university 0.26673786244003855\n",
      "rand corporation 0.2657145714076598\n",
      "hanoi university 0.2652622912861149\n",
      "national institute for environmental studies 0.2650367281132525\n",
      "united nations environment programme 0.2649240903197493\n",
      "mcmaster university 0.26469910170801275\n",
      "addis ababa university 0.26447449491827324\n",
      "john snow inc 0.26436233440304074\n",
      "centre national de la recherche scientifique 0.26425026897938536\n",
      "university of the free state 0.26425026897938536\n",
      "hobart corporation 0.26402642292349426\n",
      "international union for conservation of nature and natural resources 0.2635798666056533\n",
      "university of tasmania 0.2628020170836299\n",
      "eth zurich 0.2624700566409979\n",
      "economic policy institute 0.2621389337772792\n",
      "delft university of technology 0.261918648958979\n",
      "the nature conservancy 0.2618086453264889\n",
      "university of wollongong 0.2618086453264889\n",
      "united nations office on drugs and crime 0.2616987340564106\n",
      "research triangle park 0.2612600102776069\n",
      "federal reserve bank of new york 0.2612600102776069\n",
      "goddard institute for space studies 0.2612600102776069\n",
      "beth israel deaconess medical center 0.2610411995487312\n",
      "eduardo mondlane university 0.2609319315706865\n",
      "international development research centre 0.2609319315706865\n",
      "intermountain healthcare 0.2609319315706865\n",
      "tufts medical center 0.2609319315706865\n",
      "world wide fund for nature 0.2607136698127855\n",
      "university of waterloo 0.26049577288857917\n",
      "aurecon 0.26049577288857917\n",
      "university of wisconsin madison 0.26038696095337094\n",
      "curtin university 0.26038696095337094\n",
      "united states geological survey 0.2601696095669324\n",
      "erasmus university rotterdam 0.26006106988834793\n",
      "international center for agricultural research in the dry areas 0.26006106988834793\n",
      "lawrence berkeley national laboratory 0.25962781529461476\n",
      "flinders university 0.25898063337032406\n",
      "council for scientific and industrial research 0.25876562246673723\n",
      "university of antwerp 0.2580158876334313\n",
      "university of pittsburgh 0.25769590100139317\n",
      "university of tennessee 0.25758941509188843\n",
      "johns hopkins university school of medicine 0.257483017150917\n",
      "colorado state university 0.25727048473890635\n",
      "jhpiego 0.25695234316668175\n",
      "global forum for health research 0.25695234316668175\n",
      "american university of beirut 0.25695234316668175\n",
      "ithaca college 0.25695234316668175\n",
      "nationwide children s hospital 0.25695234316668175\n",
      "international medical corps 0.25695234316668175\n",
      "aga khan university hospital 0.25695234316668175\n",
      "united states forest service 0.25642385212767177\n",
      "vu university amsterdam 0.25600262198043944\n",
      "baylor college of medicine 0.25600262198043944\n",
      "martin luther university of halle wittenberg 0.25600262198043944\n",
      "universidade nova de lisboa 0.2558975305921059\n",
      "national center for atmospheric research 0.2558975305921059\n",
      "beijing normal university 0.25558277348190656\n",
      "oswaldo cruz foundation 0.25537336522833676\n",
      "hanoi medical university 0.2550598954674182\n",
      "swedish university of agricultural sciences 0.25495557649176687\n",
      "university of western australia 0.2547471943287168\n",
      "federal university of bahia 0.2547471943287168\n",
      "oak ridge national laboratory 0.2546431309323407\n",
      "carleton university 0.2546431309323407\n",
      "woodrow wilson international center for scholars 0.25453915252036347\n",
      "university of alcala 0.25453915252036347\n",
      "florida museum of natural history 0.25453915252036347\n",
      "global biodiversity information facility 0.2544352589887225\n",
      "university of hamburg 0.25391706090524235\n",
      "kwame nkrumah university of science and technology 0.25391706090524235\n",
      "technical university of berlin 0.2536071539960822\n",
      "pacific institute 0.25309232014712546\n",
      "ecole polytechnique federale de lausanne 0.25298960410810467\n",
      "united nations university 0.2527844219474331\n",
      "new york blood center 0.2526819556231739\n",
      "university of illinois at chicago 0.2525795723348339\n",
      "birdlife international 0.2524772719815188\n",
      "newcastle university 0.25237505446249797\n",
      "australian museum 0.25206889790633646\n",
      "university of massachusetts amherst 0.2519670107204406\n",
      "university of canberra 0.25186520586762423\n",
      "university of sheffield 0.25186520586762423\n",
      "seattle children s 0.2517634832481301\n",
      "health alliance international 0.2517634832481301\n",
      "universite libre de bruxelles 0.25166184276236175\n",
      "university of california san diego 0.2511548688647744\n",
      "university of eastern finland 0.25054918992056674\n",
      "university of montpellier 0.25034794559131324\n",
      "zoological society of london 0.2499464252294988\n",
      "university of navarra 0.24964612916394474\n",
      "northwest university 0.24964612916394474\n",
      "university of limpopo 0.24924685506692124\n",
      "north west university 0.2491472360201319\n",
      "environment agency 0.2491472360201319\n",
      "agricultural research service 0.24904769657306036\n",
      "institut national de la recherche agronomique 0.24904769657306036\n",
      "virginia tech 0.24894823663033944\n",
      "john radcliffe hospital 0.24884885609675453\n",
      "university of lagos 0.24845212615479076\n",
      "wake forest university 0.24845212615479076\n",
      "united states environmental protection agency 0.24815540785126197\n",
      "american university 0.24766244915469607\n",
      "university of papua new guinea 0.2473676129057024\n",
      "swinburne university of technology 0.2473676129057024\n",
      "texas a m university 0.24717144509213718\n",
      "aarhus university 0.24678004137861048\n",
      "university of hong kong 0.24678004137861048\n",
      "north carolina state university 0.2464873011160024\n",
      "karolinska university hospital 0.2464873011160024\n",
      "university of maryland college park 0.2463898753052846\n",
      "university of brasilia 0.2462925264805887\n",
      "international institute for environment and development 0.24609805942454402\n",
      "edith cowan university 0.24590389921986985\n",
      "georgetown university law center 0.24590389921986985\n",
      "free university of berlin 0.24590389921986985\n",
      "pace university 0.24590389921986985\n",
      "depaul university 0.24571004514086323\n",
      "university of denver 0.24571004514086323\n",
      "university of south africa 0.24551649646410795\n",
      "world agroforestry centre 0.2446492874891562\n",
      "purdue university 0.2445533089534602\n",
      "fhi 360 0.24407454366576742\n",
      "council of scientific and industrial research 0.24397901546863796\n",
      "umea centre for global health research 0.24397901546863796\n",
      "the new school 0.2438835620197066\n",
      "concordia university 0.24350249395405077\n",
      "nagoya university 0.24350249395405077\n",
      "university of mataram 0.24350249395405077\n",
      "carter center 0.24340741293337367\n",
      "university of lethbridge 0.24293311945532736\n",
      "ohio state university 0.24283848247852358\n",
      "tokyo institute of technology 0.24274391920653038\n",
      "public health england 0.24274391920653038\n",
      "university of the west indies 0.24227220541094832\n",
      "university of ibadan 0.24208403282422133\n",
      "st george s hospital 0.24189615231756698\n",
      "university of western ontario 0.24180232138183477\n",
      "keio university 0.2417085632114657\n",
      "brookings institution 0.24161487772184886\n",
      "uppsala university 0.24152126482850447\n",
      "national university of la plata 0.24142772444708369\n",
      "international monetary fund 0.24142772444708369\n",
      "columbia university medical center 0.24142772444708369\n",
      "moi university 0.24133425649336815\n",
      "university of western sydney 0.24133425649336815\n",
      "university health network 0.24133425649336815\n",
      "st michael s hospital 0.24133425649336815\n",
      "princess margaret cancer centre 0.24133425649336815\n",
      "tilburg university 0.24124086088327013\n",
      "university of miami 0.24105428635822504\n",
      "university of dundee 0.24096110727575185\n",
      "unesco ihe institute for water education 0.24086800020184312\n",
      "medical college of wisconsin 0.24086800020184312\n",
      "poznan university of technology 0.24040354204487854\n",
      "dalhousie university 0.24040354204487854\n",
      "eni 0.24012572593311635\n",
      "graz university of technology 0.24012572593311635\n",
      "university of saskatchewan 0.24003326319690796\n",
      "plymouth state university 0.23994087164063513\n",
      "carnegie mellon university 0.23938801248938943\n",
      "mathematica policy research 0.23938801248938943\n",
      "humboldt university of berlin 0.23892923898902646\n",
      "teri university 0.23856348431778418\n",
      "colorado school of mines 0.23856348431778418\n",
      "fudan university 0.23847222055178655\n",
      "all india institute of medical sciences 0.23838102658599236\n",
      "university of regina 0.2381078626899809\n",
      "university of adelaide 0.23801694712576174\n",
      "university of hull 0.23702143898188976\n",
      "food and environment research agency 0.23666149754076313\n",
      "national museum of natural history 0.23666149754076313\n",
      "international vaccine institute 0.23576640866958018\n",
      "health services academy 0.23576640866958018\n",
      "university of guelph 0.2356772720311418\n",
      "auckland university of technology 0.2355882027673356\n",
      "university of vermont 0.23514386439923424\n",
      "georgia institute of technology 0.2350551977836991\n",
      "university of rome tor vergata 0.2350551977836991\n",
      "game wildlife conservation trust 0.2350551977836991\n",
      "university of chile 0.23487806500466088\n",
      "inner mongolia university 0.23434826485803384\n",
      "university of georgia 0.23434826485803384\n",
      "university at buffalo 0.23434826485803384\n",
      "university of lisbon 0.2342601971147576\n",
      "national water and sewerage corporation 0.2342601971147576\n",
      "university of alabama at birmingham 0.23408426005346228\n",
      "federal fluminense university 0.23382084940824083\n",
      "university of technology sydney 0.2337331775486952\n",
      "joint global change research institute 0.2337331775486952\n",
      "national institute for space research 0.2336455714101837\n",
      "chalmers university of technology 0.23355803091883479\n",
      "prevention institute 0.23329580259070737\n",
      "bangor university 0.23320852395150393\n",
      "trent university 0.23312131059176142\n",
      "university of kassel 0.23303416243826916\n",
      "zhejiang university 0.23294707941792603\n",
      "assiut university 0.23277310848482824\n",
      "universite catholique de louvain 0.2326862204264166\n",
      "california institute of technology 0.23259939720983958\n",
      "maastricht university 0.23139064013451002\n",
      "mbarara university of science and technology 0.23121898535696217\n",
      "ryerson university 0.23113325343803115\n",
      "china agricultural university 0.23070554571516283\n",
      "royal swedish academy of sciences 0.23019438128595643\n",
      "mid sweden university 0.2301094073541418\n",
      "european commission 0.2301094073541418\n",
      "portland state university 0.2296854769795026\n",
      "university of bonn 0.22951634187127026\n",
      "uganda virus research institute 0.22943186769318\n",
      "blekinge institute of technology 0.22934745567416115\n",
      "university of valencia 0.22926310574563075\n",
      "aston university 0.22917881783910662\n",
      "africa rice center 0.22917881783910662\n",
      "uganda christian university 0.22901042781865172\n",
      "international fertilizer development center 0.22875830624674132\n",
      "international rice research institute 0.22875830624674132\n",
      "bayer 0.22875830624674132\n",
      "dalle molle institute for artificial intelligence research 0.22875830624674132\n",
      "research institute of organic agriculture 0.22875830624674132\n",
      "cranfield university 0.22875830624674132\n",
      "nyenrode business university 0.22842300642080252\n",
      "drexel university 0.22825572483426218\n",
      "james hutton institute 0.22825572483426218\n",
      "world meteorological organization 0.22825572483426218\n",
      "national ecological observatory network 0.22817217588666544\n",
      "china university of geosciences 0.22800526134688004\n",
      "universidad san francisco de quito 0.22800526134688004\n",
      "rmit university 0.22758904144664843\n",
      "royal tropical institute 0.22758904144664843\n",
      "university of los andes 0.22750597975268977\n",
      "rio de janeiro state university 0.22742297866558558\n",
      "federal university of sao paulo 0.22725715804679916\n",
      "sao paulo state university 0.22725715804679916\n",
      "federal university of sao carlos 0.22725715804679916\n",
      "mental health services 0.22725715804679916\n",
      "simon fraser university 0.22717433838278792\n",
      "university of south florida st petersburg 0.22700888001542974\n",
      "world conservation monitoring centre 0.2268436624899454\n",
      "university of st andrews 0.22676114387863586\n",
      "university of gloucestershire 0.22651394786423332\n",
      "world heart federation 0.22618519032016332\n",
      "rice university 0.22618519032016332\n",
      "sokoine university of agriculture 0.22618519032016332\n",
      "national technical university of athens 0.2259392477427945\n",
      "university of delhi 0.2259392477427945\n",
      "jawaharlal nehru medical college aligarh 0.2259392477427945\n",
      "ludwig maximilian university of munich 0.22585738569651087\n",
      "norwegian institute for air research 0.22585738569651087\n",
      "national institute on drug abuse 0.22585738569651087\n",
      "university of strathclyde 0.22577558294906555\n",
      "university of gondar 0.22577558294906555\n",
      "university of botswana 0.22561215509314878\n",
      "murdoch university 0.22561215509314878\n",
      "office of environment and heritage 0.22561215509314878\n",
      "open university 0.22544896366089331\n",
      "washington university in st louis 0.22544896366089331\n",
      "university of leicester 0.2253674564433731\n",
      "university of the basque country 0.2253674564433731\n",
      "pakistan institute of medical sciences 0.22520461868582733\n",
      "university of namibia 0.2251232880181907\n",
      "national research council 0.2251232880181907\n",
      "sun yat sen university 0.22447475135843356\n",
      "jilin university 0.22447475135843356\n",
      "south china agricultural university 0.22447475135843356\n",
      "beijing forestry university 0.22447475135843356\n",
      "center for excellence in education 0.22447475135843356\n",
      "children s hospital at westmead 0.2233487583383626\n",
      "addis continental institute of public health 0.2233487583383626\n",
      "bahir dar university 0.2230291178970912\n",
      "university of liege 0.22255136898335237\n",
      "katholieke universiteit leuven 0.2224719430843576\n",
      "free university of brussels 0.2224719430843576\n",
      "university of new mexico 0.22215480560312542\n",
      "great lakes university 0.2216807910819239\n",
      "cardiff university 0.2216807910819239\n",
      "university of birmingham 0.22152323543794242\n",
      "indian ministry of environment and forests 0.22152323543794242\n",
      "clark university 0.22152323543794242\n",
      "university of houston 0.22152323543794242\n",
      "university of atlanta 0.22152323543794242\n",
      "czech university of life sciences prague 0.2214445415710018\n",
      "landcare research 0.22120879507536195\n",
      "university of potsdam 0.2206606670875646\n",
      "city college of new york 0.2194952058177359\n",
      "aberystwyth university 0.2190324611814371\n",
      "princess alexandra hospital 0.21887864625083217\n",
      "rhodes university 0.21887864625083217\n",
      "atlantic oceanographic and meteorological laboratory 0.21880181976917165\n",
      "university of dar es salaam 0.21872504720083158\n",
      "marine biological association of the united kingdom 0.21857166357726857\n",
      "world vision international 0.21849505240882233\n",
      "pacific northwest university of health sciences 0.21849505240882233\n",
      "kiel institute for the world economy 0.2183419910761366\n",
      "brown university 0.2181891440400315\n",
      "university of nebraska lincoln 0.21811280074260672\n",
      "southern cross university 0.21780796104904612\n",
      "cooperative research centre 0.21773188422017814\n",
      "global environment facility 0.2174281076115696\n",
      "qimr berghofer medical research institute 0.21720083084403136\n",
      "charles sturt university 0.2171251774720899\n",
      "empresa brasileira de pesquisa agropecuaria 0.2164466612924896\n",
      "universite de montreal 0.21622143063557753\n",
      "american public health association 0.21622143063557753\n",
      "mcgill university health centre 0.21622143063557753\n",
      "china west normal university 0.21599666823366945\n",
      "autonomous university of barcelona 0.21577237262802698\n",
      "pompeu fabra university 0.21510227209191513\n",
      "tel aviv university 0.21510227209191513\n",
      "university of kiel 0.2150280733088548\n",
      "international hiv aids alliance 0.21392120265009268\n",
      "laval university 0.21362795905495888\n",
      "vancouver island university 0.21362795905495888\n",
      "university of science and technology beijing 0.21362795905495888\n",
      "university of ontario institute of technology 0.21362795905495888\n",
      "shandong university 0.21348163853505822\n",
      "norwegian university of life sciences 0.21282566900729602\n",
      "mekelle university 0.21260790740872101\n",
      "university of johannesburg 0.2125354192029901\n",
      "university of health and allied sciences 0.2125354192029901\n",
      "university of cape coast 0.2125354192029901\n",
      "university for development studies 0.21246298040980574\n",
      "sodertorn university 0.2119572881748963\n",
      "karlsruhe institute of technology 0.2118852428696023\n",
      "environmental defense fund 0.21166940051693378\n",
      "mediterranea university of reggio calabria 0.21152574975309466\n",
      "leibniz association 0.21138229383600204\n",
      "universidad michoacana de san nicolas de hidalgo 0.21095309120892386\n",
      "kyushu university 0.2105967515278277\n",
      "indian institute of technology bombay 0.2105967515278277\n",
      "masdar institute of science and technology 0.2105967515278277\n",
      "inter american development bank 0.20918335051086243\n",
      "jomo kenyatta university of agriculture and technology 0.20876302227808774\n",
      "university of paris 0.20841403695164495\n",
      "swiss federal laboratories for materials science and technology 0.2082052052512926\n",
      "australian catholic university 0.20799679163242243\n",
      "university of zagreb 0.207512112024757\n",
      "beijing institute of technology 0.20716729296190428\n",
      "ottawa hospital research institute 0.20709846661872758\n",
      "national university of ireland galway 0.20696095103664344\n",
      "millennium institute 0.20682361795699072\n",
      "st george s university of london 0.20648108132572707\n",
      "tohoku university 0.20607153207351075\n",
      "teikyo university 0.20607153207351075\n",
      "university of dhaka 0.20607153207351075\n",
      "university of rajshahi 0.20607153207351075\n",
      "universiti teknologi malaysia 0.20586736609061096\n",
      "university of toulouse 0.20586736609061096\n",
      "university of cordoba 0.20586736609061096\n",
      "american museum of natural history 0.20579940063465502\n",
      "swiss federal institute of aquatic science and technology 0.20579940063465502\n",
      "university of aveiro 0.20559577325935688\n",
      "dongguan university of technology 0.20546024539300264\n",
      "university of venda 0.20539254844229654\n",
      "instituto superior tecnico 0.20505473175077962\n",
      "state university of new york at fredonia 0.20498730171731996\n",
      "versailles saint quentin en yvelines university 0.20478527743836072\n",
      "university of rostock 0.20471802447368473\n",
      "university of malaya 0.20424848772030474\n",
      "indian institute of management ahmedabad 0.20305093958383388\n",
      "university of bordeaux 0.20265487143119962\n",
      "asm clermont auvergne 0.20265487143119962\n",
      "university of lorraine 0.20265487143119962\n",
      "walter sisulu university 0.20265487143119962\n",
      "university of south australia 0.20252319185262183\n",
      "polytechnic university of catalonia 0.2019981803377738\n",
      "pontifical catholic university of chile 0.20160620456739006\n",
      "technische universitat munchen 0.20160620456739006\n",
      "university of porto 0.20121574710212073\n",
      "kaduna state university 0.20121574710212073\n",
      "south dakota state university 0.20050382261896751\n",
      "utah state university 0.2004393519364534\n",
      "queen s university 0.2004393519364534\n",
      "hampton university 0.2004393519364534\n",
      "national dong hwa university 0.2004393519364534\n",
      "kansas state university 0.20037492270085824\n",
      "indian institute of science 0.2003105348722269\n",
      "denver federal center 0.20024618841065533\n",
      "maastricht graduate school of governance 0.20018188327629094\n",
      "nhtv breda university of applied sciences 0.19896788526089051\n",
      "university of coimbra 0.19871418059367868\n",
      "universidade aberta 0.19871418059367868\n",
      "university of buenos aires 0.19871418059367868\n",
      "montana state university 0.19865085548832695\n",
      "university of wyoming 0.19865085548832695\n",
      "university of minho 0.19820870732030843\n",
      "leiden university 0.19776852300836611\n",
      "university of the algarve 0.19770579908733588\n",
      "seoul national university 0.19758047053006972\n",
      "university of bologna 0.19751786581824146\n",
      "hebei normal university 0.19751786581824146\n",
      "minzu university of china 0.19751786581824146\n",
      "hanoi school of public health 0.19745530076730122\n",
      "seoul national university hospital 0.19745530076730122\n",
      "idaho national laboratory 0.19695620364055924\n",
      "pacific northwest national laboratory 0.19695620364055924\n",
      "michigan technological university 0.19695620364055924\n",
      "fraunhofer society 0.19645962323427987\n",
      "world institute for development economics research 0.19584240795550426\n",
      "unesco 0.1952902207150282\n",
      "national bureau of economic research 0.19486288981630823\n",
      "finnish environment institute 0.19461953934510462\n",
      "agro paristech 0.1935920448827236\n",
      "supagro 0.1935920448827236\n",
      "university of cincinnati 0.19305245726923814\n",
      "university of zurich 0.19221905165660502\n",
      "masaryk university 0.19198225578145056\n",
      "bangladesh centre for advanced studies 0.19180504139149845\n",
      "university of tubingen 0.1916870801114299\n",
      "macquarie university 0.1916870801114299\n",
      "touro college 0.1916870801114299\n",
      "great zimbabwe university 0.1914515922980252\n",
      "obafemi awolowo university 0.1893579539861391\n",
      "asian development bank 0.18907078693429483\n",
      "south florida water management district 0.18872733409699366\n",
      "university of calgary 0.18844207512768138\n",
      "north china electric power university 0.18691645712814692\n",
      "capital university of economics and business 0.18691645712814692\n",
      "sapienza university of rome 0.18514000134314523\n",
      "illinois institute of technology 0.18503009335778273\n",
      "aalto university 0.18410111769709686\n",
      "radboud university nijmegen 0.18275179845276165\n",
      "maastricht university medical centre 0.18275179845276165\n",
      "polytechnic university of valencia 0.1814221142381752\n",
      "university of newcastle 0.1814221142381752\n",
      "university of palermo 0.1814221142381752\n",
      "university of texas at el paso 0.18079071476866881\n",
      "university of tsukuba 0.1806335510061924\n",
      "university of nottingham malaysia campus 0.18047666025546324\n",
      "democritus university of thrace 0.17933440291207423\n",
      "jimma university 0.17923127789602358\n",
      "linkoping university 0.17897398349766583\n",
      "leeds beckett university 0.17897398349766583\n",
      "university of calabria 0.17887127245979054\n",
      "ziauddin university 0.17887127245979054\n",
      "hanyang university 0.17887127245979054\n",
      "university of turin 0.17881996113665233\n",
      "college of the north atlantic 0.17881996113665233\n",
      "gembloux agro bio tech 0.1771934009443917\n",
      "national yang ming university 0.17664108374110798\n",
      "cawthron institute 0.17639116709744482\n",
      "environment canterbury 0.17639116709744482\n",
      "university of osnabruck 0.17544789882419645\n",
      "morgan state university 0.17525060009062976\n",
      "federal university of para 0.1733017471566222\n",
      "ecole normale superieure 0.16811391168348708\n",
      "universidade de passo fundo 0.16654191411230831\n",
      "universiti tunku abdul rahman 0.16548085599213433\n",
      "national university of malaysia 0.16548085599213433\n",
      "universiti sains malaysia 0.16539304444743166\n",
      "green templeton college 0.16539304444743166\n",
      "stockholm international water institute 0.16391437931169342\n",
      "indian institute of technology guwahati 0.1628438831040674\n",
      "walchand institute of technology 0.1628438831040674\n",
      "indian institutes of technology 0.16280135401472187\n",
      "instituto politecnico nacional 0.16141024974685914\n",
      "konkuk university 0.16099338443243028\n",
      "gyeongsang national university 0.16099338443243028\n",
      "saint mary s college of california 0.1602484278977815\n",
      "university of helsinki 0.15902203686795155\n",
      "university of alberta 0.1548736359061789\n",
      "university of basilicata 0.15263623519156955\n",
      "de la salle university 0.14945250168361784\n",
      "york university 0.14602164078762475\n",
      "oko institut 0.14602164078762475\n",
      "manchester metropolitan university 0.1397682476507556\n",
      "hamburg university of applied sciences 0.1397682476507556\n",
      "heriot watt university 0.13902015711917262\n",
      "universiti utara malaysia 0.13902015711917262\n",
      "university of tehran 0.0048367593712212815\n",
      "tehran university of medical sciences 0.004353083434099153\n",
      "islamic azad university 0.0036275695284159614\n",
      "tarbiat modares university 0.003109345310070824\n",
      "shahid beheshti university of medical sciences and health services 0.002902055622732769\n",
      "iran university of medical sciences 0.002902055622732769\n",
      "islamic azad university of karaj 0.0025606373141759727\n",
      "ca foscari university of venice 0.0024183796856106408\n",
      "university of trento 0.0024183796856106408\n",
      "university of milan 0.0024183796856106408\n",
      "university of haifa 0.0024183796856106408\n",
      "khalifa university 0.0024183796856106408\n",
      "university of granada 0.0024183796856106408\n",
      "tata institute of social sciences 0.0024183796856106408\n",
      "international institute for population sciences 0.0024183796856106408\n",
      "indian institute of technology roorkee 0.0024183796856106408\n",
      "university of belgrade 0.0024183796856106408\n",
      "university of nigeria nsukka 0.0024183796856106408\n",
      "liverpool john moores university 0.0024183796856106408\n",
      "kyung hee university 0.001612253123740427\n",
      "amity university 0.001612253123740427\n",
      "higher university of san andres 0.001612253123740427\n",
      "ben gurion university of the negev 0.001612253123740427\n",
      "university of la rioja 0.001612253123740427\n",
      "bournemouth university 0.001612253123740427\n",
      "technion israel institute of technology 0.001612253123740427\n",
      "university of port harcourt 0.001612253123740427\n",
      "university of insubria 0.001612253123740427\n",
      "university of valladolid 0.001612253123740427\n",
      "covenant university 0.001612253123740427\n",
      "university of east sarajevo 0.001612253123740427\n",
      "umm al qura university 0.0012091898428053204\n",
      "birla institute of technology and science 0.0012091898428053204\n",
      "indian agricultural research institute 0.0012091898428053204\n",
      "romanian academy 0.0012091898428053204\n",
      "national defence college india 0.0012091898428053204\n",
      "deutsche gesellschaft fur internationale zusammenarbeit 0.0012091898428053204\n",
      "massey university 0.0012091898428053204\n",
      "australian defence force academy 0.0012091898428053204\n",
      "cairo university 0.0012091898428053204\n",
      "aalborg university 0.0012091898428053204\n",
      "international university cambodia 0.0012091898428053204\n",
      "federal university of technology minna 0.0012091898428053204\n",
      "universiti tun hussein onn malaysia 0.0012091898428053204\n",
      "polytechnic university of milan 0.0012091898428053204\n",
      "polytechnic university of turin 0.0012091898428053204\n",
      "xiamen university 0.0012091898428053204\n",
      "university of zimbabwe 0.0012091898428053204\n",
      "kyoto university 0.0012091898428053204\n",
      "hedmark university college 0.0012091898428053204\n",
      "norwegian university of science and technology 0.0012091898428053204\n",
      "jacobs university bremen 0.0012091898428053204\n",
      "national yunlin university of science and technology 0.0012091898428053204\n",
      "german development institute 0.0012091898428053204\n",
      "university of brighton 0.0012091898428053204\n",
      "university of salzburg 0.0012091898428053204\n",
      "research studios austria 0.0012091898428053204\n",
      "university of khartoum 0.0012091898428053204\n",
      "university of massachusetts boston 0.0012091898428053204\n",
      "san francisco state university 0.0012091898428053204\n",
      "population council 0.0012091898428053204\n",
      "universidade federal do rio grande do sul 0.0012091898428053204\n",
      "university of st gallen 0.0012091898428053204\n",
      "charles darwin university 0.0012091898428053204\n",
      "university of oklahoma 0.0012091898428053204\n",
      "university of pamplona 0.0012091898428053204\n",
      "escuela colombiana de ingenieria 0.0012091898428053204\n",
      "university of alicante 0.0012091898428053204\n",
      "universidad autonoma de yucatan 0.0012091898428053204\n",
      "kassala university 0.0012091898428053204\n",
      "university of szczecin 0.0012091898428053204\n",
      "bayero university kano 0.0012091898428053204\n",
      "universidade federal de santa maria 0.0012091898428053204\n",
      "university of southern mississippi 0.0012091898428053204\n",
      "university of bradford 0.0012091898428053204\n",
      "coventry university 0.0012091898428053204\n",
      "charles university in prague 0.0012091898428053204\n",
      "punjabi university 0.0012091898428053204\n",
      "international institute for sustainable development 0.0012091898428053204\n",
      "manhattan college 0.0012091898428053204\n",
      "university of science and technology sana a 0.0012091898428053204\n",
      "ansaldo sts 0.0012091898428053204\n",
      "enea 0.0012091898428053204\n",
      "vilnius gediminas technical university 0.0012091898428053204\n",
      "pedagogical university 0.0012091898428053204\n",
      "national chin yi university of technology 0.0012091898428053204\n",
      "chaoyang university of technology 0.0012091898428053204\n",
      "city university of new york 0.0012091898428053204\n",
      "ikerbasque 0.0012091898428053204\n",
      "energy institute 0.0012091898428053204\n",
      "tallinn university of technology 0.0012091898428053204\n",
      "glenville state college 0.0012091898428053204\n",
      "national defense university 0.0012091898428053204\n",
      "instituto de salud carlos iii 0.0012091898428053204\n",
      "indian council of agricultural research 0.0012091898428053204\n",
      "observer research foundation 0.0012091898428053204\n",
      "chongqing university 0.0012091898428053204\n",
      "chinhoyi university of technology 0.0012091898428053204\n",
      "sultan qaboos university 0.0012091898428053204\n",
      "helwan university 0.0012091898428053204\n",
      "fuzhou university 0.0012091898428053204\n",
      "babol noshirvani university of technology 0.0012091898428053204\n",
      "kazan federal university 0.0012091898428053204\n",
      "business school lausanne 0.0012091898428053204\n",
      "autonomous university of madrid 0.0012091898428053204\n",
      "amrita vishwa vidyapeetham 0.0012091898428053204\n",
      "etseib 0.0012091898428053204\n",
      "baba banda singh bahadur engineering college 0.0012091898428053204\n",
      "west pomeranian university of technology 0.0012091898428053204\n"
     ]
    }
   ],
   "source": [
    "for x,y in measure_sorted:\n",
    "    print(x,y)"
   ]
  },
  {
   "cell_type": "code",
   "execution_count": 19,
   "metadata": {
    "collapsed": false
   },
   "outputs": [
    {
     "data": {
      "text/plain": [
       "(2389, 828)"
      ]
     },
     "execution_count": 19,
     "metadata": {},
     "output_type": "execute_result"
    }
   ],
   "source": [
    "len(subview.edges()), len(subview.nodes())"
   ]
  },
  {
   "cell_type": "code",
   "execution_count": 75,
   "metadata": {
    "collapsed": false
   },
   "outputs": [
    {
     "data": {
      "text/plain": [
       "0"
      ]
     },
     "execution_count": 75,
     "metadata": {},
     "output_type": "execute_result"
    }
   ],
   "source": [
    "len(list(nx.isolates(subview)))"
   ]
  },
  {
   "cell_type": "code",
   "execution_count": 24,
   "metadata": {
    "collapsed": false
   },
   "outputs": [
    {
     "data": {
      "text/plain": [
       "(179, 25)"
      ]
     },
     "execution_count": 24,
     "metadata": {},
     "output_type": "execute_result"
    }
   ],
   "source": [
    "len(closeness_view.edges()), len(closeness_view.nodes())"
   ]
  },
  {
   "cell_type": "code",
   "execution_count": null,
   "metadata": {
    "collapsed": false
   },
   "outputs": [],
   "source": [
    "for e1, e2 in subview.edges():\n",
    "\n",
    "    weight = subview[e1][e2][\"weight\"]\n",
    "    if weight > 4:\n",
    "        print(\"-------------\")\n",
    "        print(e1, e2)\n",
    "        print(subview[e1][e2][\"weight\"])"
   ]
  },
  {
   "cell_type": "code",
   "execution_count": null,
   "metadata": {
    "collapsed": false
   },
   "outputs": [],
   "source": [
    "for auth_id, auth_data in data_by_author.items():\n",
    "    if any(len(auth_data[key]) > 2 for key in auth_data.keys()):\n",
    "        print(auth_data)"
   ]
  },
  {
   "cell_type": "code",
   "execution_count": 19,
   "metadata": {
    "collapsed": false
   },
   "outputs": [
    {
     "data": {
      "text/plain": [
       "'420720'"
      ]
     },
     "execution_count": 19,
     "metadata": {},
     "output_type": "execute_result"
    }
   ],
   "source": [
    "list(data_by_id.keys())[0]"
   ]
  },
  {
   "cell_type": "code",
   "execution_count": 19,
   "metadata": {
    "collapsed": false
   },
   "outputs": [
    {
     "data": {
      "text/plain": [
       "['kasetsart university',\n",
       " 'hiroshima shudo university',\n",
       " 'university of shiga prefecture']"
      ]
     },
     "execution_count": 19,
     "metadata": {},
     "output_type": "execute_result"
    }
   ],
   "source": [
    "data_by_id[\"524975\"]"
   ]
  },
  {
   "cell_type": "markdown",
   "metadata": {},
   "source": [
    "### Output graph data as separate files containing `nodes` and `edges` for display in `flourish.studio`."
   ]
  },
  {
   "cell_type": "code",
   "execution_count": 22,
   "metadata": {
    "collapsed": false
   },
   "outputs": [],
   "source": [
    "# Output subview\n",
    "\n",
    "import csv\n",
    "\n",
    "graph_to_print = subgraphs[1]\n",
    "name = \"weight_1_component_1_time_2\"\n",
    "\n",
    "nx.write_edgelist(graph_to_print, \"mag_output_inst/mag_inst_edges_{0}.tsv\".format(name), delimiter=\"\\t\", data=[\"weight\", \"years\", \"connection\"])\n",
    "with open(\"mag_output_inst/mag_inst_nodes_{0}.csv\".format(name), \"w\") as f:\n",
    "    fieldnames = [\"id\", \"country\", \"continent\", \"affiliation\", \"papers\", \"name\", \"year\", \"count\",\n",
    "                 \"affiliation_label\", \"dois\", 'degree', 'domestic', 'domestic_pct', 'international_pct',\n",
    "                  'international', 'yearspan', 'modularity']\n",
    "    writer = csv.DictWriter(f, fieldnames=fieldnames)\n",
    "    writer.writeheader()\n",
    "    for n, data in list(graph_to_print.nodes(data=True)):\n",
    "        row = data\n",
    "        row[\"id\"] = n\n",
    "        writer.writerow(row)"
   ]
  },
  {
   "cell_type": "code",
   "execution_count": 78,
   "metadata": {
    "collapsed": false
   },
   "outputs": [],
   "source": [
    "# Output subview\n",
    "\n",
    "import csv\n",
    "\n",
    "nx.write_edgelist(subview, \"mag_output_inst/mag_inst_edges.tsv\", delimiter=\"\\t\", data=[\"weight\", \"connection\"])\n",
    "with open(\"mag_output_inst/mag_inst_nodes.csv\", \"w\") as f:\n",
    "    fieldnames = [\"id\", \"country\", \"continent\", \"affiliation\", \"papers\", \"name\", \"year\", \"count\",\n",
    "                 \"affiliation_label\", \"dois\", 'degree', 'domestic', 'domestic_pct', 'international_pct',\n",
    "                  'international']\n",
    "    writer = csv.DictWriter(f, fieldnames=fieldnames)\n",
    "    writer.writeheader()\n",
    "    for n, data in list(subview.nodes(data=True)):\n",
    "        row = data\n",
    "        row[\"id\"] = n\n",
    "        writer.writerow(row)"
   ]
  },
  {
   "cell_type": "code",
   "execution_count": 42,
   "metadata": {
    "collapsed": false
   },
   "outputs": [],
   "source": [
    "# Output closeness_view\n",
    "\n",
    "import csv\n",
    "\n",
    "nx.write_edgelist(closeness_view, \"mag_output_inst/mag_inst_edges_closeness.tsv\", delimiter=\"\\t\", data=[\"weight\", \"connection\"])\n",
    "with open(\"mag_output_inst/mag_inst_nodes_closeness.csv\", \"w\") as f:\n",
    "    fieldnames = [\"id\", \"country\", \"continent\", \"affiliation\", \"papers\", \"name\", \"year\", \"count\",\n",
    "                 \"affiliation_label\", \"dois\", 'degree', 'domestic', 'domestic_pct', 'international_pct',\n",
    "                  'international']\n",
    "    writer = csv.DictWriter(f, fieldnames=fieldnames)\n",
    "    writer.writeheader()\n",
    "    for n, data in list(closeness_view.nodes(data=True)):\n",
    "        row = data\n",
    "        row[\"id\"] = n\n",
    "        writer.writerow(row)"
   ]
  },
  {
   "cell_type": "code",
   "execution_count": 28,
   "metadata": {
    "collapsed": false
   },
   "outputs": [],
   "source": [
    "# Output ego_view\n",
    "\n",
    "import csv\n",
    "\n",
    "nx.write_edgelist(ego_view, \"mag_output_inst/mag_inst_edges_ego.tsv\", delimiter=\"\\t\", data=[\"weight\", \"connection\"])\n",
    "with open(\"mag_output_inst/mag_inst_nodes_ego.csv\", \"w\") as f:\n",
    "    fieldnames = [\"id\", \"country\", \"continent\", \"affiliation\", \"papers\", \"name\", \"year\", \"count\",\n",
    "                 \"affiliation_label\", \"dois\", 'degree', 'domestic', 'domestic_pct', 'international_pct',\n",
    "                  'international']\n",
    "    writer = csv.DictWriter(f, fieldnames=fieldnames)\n",
    "    writer.writeheader()\n",
    "    for n, data in list(ego_view.nodes(data=True)):\n",
    "        row = data\n",
    "        row[\"id\"] = n\n",
    "        writer.writerow(row)"
   ]
  },
  {
   "cell_type": "code",
   "execution_count": 21,
   "metadata": {
    "collapsed": false
   },
   "outputs": [
    {
     "data": {
      "text/plain": [
       "41"
      ]
     },
     "execution_count": 21,
     "metadata": {},
     "output_type": "execute_result"
    }
   ],
   "source": [
    "max([subview[e][v][\"weight\"] for e, v in subview.edges])"
   ]
  },
  {
   "cell_type": "markdown",
   "metadata": {},
   "source": [
    "### Centrality measures"
   ]
  },
  {
   "cell_type": "code",
   "execution_count": null,
   "metadata": {
    "collapsed": false
   },
   "outputs": [],
   "source": [
    "cc = nx.closeness_centrality(subview)\n",
    "print(cc)\n",
    "bc = nx.betweenness_centrality(subview)\n",
    "print(bc)"
   ]
  },
  {
   "cell_type": "code",
   "execution_count": 40,
   "metadata": {
    "collapsed": false
   },
   "outputs": [
    {
     "name": "stdout",
     "output_type": "stream",
     "text": [
      "{'chalmers university of technology': 0.0048367593712212815, 'sichuan university': 0.008464328899637243, 'university of california berkeley': 0.041112454655380895, 'stockholm university': 0.03264812575574365, 'university of london': 0.1414752116082225, 'makerere university': 0.022974607013301087, 'rti international': 0.013301088270858524, 'university of wisconsin madison': 0.009673518742442563, 'stanford university': 0.06166868198307134, 'university of california': 0.006045949214026602, 'portland state university': 0.0024183796856106408, 'oregon state university': 0.0048367593712212815, 'ghent university': 0.014510278113663844, 'umm al qura university': 0.0012091898428053204, 'birla institute of technology and science': 0.0012091898428053204, 'teri university': 0.0012091898428053204, 'utrecht university': 0.025392986698911726, 'kyung hee university': 0.0012091898428053204, 'purdue university': 0.0048367593712212815, 'indian agricultural research institute': 0.0012091898428053204, 'university of victoria': 0.008464328899637243, 'george mason university': 0.008464328899637243, 'wageningen university and research centre': 0.06408706166868199, 'agricultural research service': 0.003627569528415961, 'university of california davis': 0.020556227327690448, 'unicef': 0.05683192261185006, 'university of bergen': 0.009673518742442563, 'university of arizona': 0.012091898428053204, 'university of colorado boulder': 0.02781136638452237, 'university of utah': 0.008464328899637243, 'university of tokyo': 0.012091898428053204, 'tohoku university': 0.0012091898428053204, 'international fertilizer development center': 0.0012091898428053204, 'university of birmingham': 0.0012091898428053204, 'university of brasilia': 0.0024183796856106408, 'romanian academy': 0.0012091898428053204, 'national defence college india': 0.0012091898428053204, 'mekelle university': 0.0024183796856106408, 'griffith university': 0.016928657799274487, 'princess alexandra hospital': 0.0012091898428053204, 'university of massachusetts amherst': 0.0024183796856106408, 'commonwealth scientific and industrial research organisation': 0.06408706166868199, 'oak ridge national laboratory': 0.008464328899637243, 'university of the witwatersrand': 0.05078597339782345, 'amity university': 0.0012091898428053204, 'university of miami': 0.0024183796856106408, 'south florida water management district': 0.0012091898428053204, 'united states forest service': 0.003627569528415961, 'pontifical catholic university of chile': 0.0012091898428053204, 'massachusetts institute of technology': 0.012091898428053204, 'university of helsinki': 0.0012091898428053204, 'united nations university': 0.008464328899637243, 'university of lisbon': 0.0048367593712212815, 'columbia university': 0.08585247883917775, 'universidade nova de lisboa': 0.010882708585247883, 'deutsche gesellschaft fur internationale zusammenarbeit': 0.0012091898428053204, 'australian national university': 0.05562273276904474, 'harvard university': 0.10761789600967352, 'university of sao paulo': 0.025392986698911726, 'federal university of sao paulo': 0.0012091898428053204, 'federal university of rio de janeiro': 0.012091898428053204, 'university of auckland': 0.022974607013301087, 'south african medical research council': 0.010882708585247883, 'massey university': 0.0012091898428053204, 'landcare research': 0.003627569528415961, 'university of queensland': 0.04836759371221282, 'university of melbourne': 0.045949214026602174, 'university of oslo': 0.0048367593712212815, 'teikyo university': 0.0012091898428053204, 'university of dhaka': 0.0012091898428053204, 'australian defence force academy': 0.0012091898428053204, 'cairo university': 0.0012091898428053204, 'ecole polytechnique federale de lausanne': 0.007255139056831922, 'swiss federal laboratories for materials science and technology': 0.0024183796856106408, 'university of navarra': 0.0012091898428053204, 'fraunhofer society': 0.0024183796856106408, 'national institute for environmental studies': 0.008464328899637243, 'indian institute of management ahmedabad': 0.0012091898428053204, 'international rice research institute': 0.0012091898428053204, 'indian institute of science': 0.0048367593712212815, 'lawrence berkeley national laboratory': 0.003627569528415961, 'international food policy research institute': 0.026602176541717048, 'university of illinois at urbana champaign': 0.010882708585247883, 'aalborg university': 0.0012091898428053204, 'queensland university of technology': 0.006045949214026602, 'university of ghana': 0.019347037484885126, 'university of california santa barbara': 0.0048367593712212815, 'university of british columbia': 0.05078597339782345, 'university of cape town': 0.05078597339782345, 'boston children s hospital': 0.022974607013301087, 'university of alberta': 0.0012091898428053204, 'university of venda': 0.0012091898428053204, 'moi university': 0.0012091898428053204, 'university of pretoria': 0.012091898428053204, 'university of toronto': 0.053204353083434096, 'montana state university': 0.003627569528415961, 'colorado state university': 0.012091898428053204, 'south dakota state university': 0.0048367593712212815, 'utah state university': 0.0024183796856106408, 'university of wyoming': 0.003627569528415961, 'university of zurich': 0.0012091898428053204, 'university of botswana': 0.0012091898428053204, 'rhodes university': 0.0012091898428053204, 'international university cambodia': 0.0012091898428053204, 'national university of singapore': 0.007255139056831922, 'rmit university': 0.003627569528415961, 'monash university': 0.014510278113663844, 'university of leeds': 0.03143893591293833, 'eth zurich': 0.006045949214026602, 'cornell university': 0.02418379685610641, 'california institute of technology': 0.0012091898428053204, 'brown university': 0.0012091898428053204, 'woodrow wilson international center for scholars': 0.009673518742442563, 'virginia tech': 0.007255139056831922, 'northwestern university': 0.015719467956469165, 'university of southern california': 0.006045949214026602, 'university of tsukuba': 0.0012091898428053204, 'agro paristech': 0.0012091898428053204, 'institut national de la recherche agronomique': 0.007255139056831922, 'tufts university': 0.008464328899637243, 'united states geological survey': 0.009673518742442563, 'tsinghua university': 0.012091898428053204, 'princeton university': 0.007255139056831922, 'university of eastern finland': 0.007255139056831922, 'united states environmental protection agency': 0.003627569528415961, 'james cook university': 0.021765417170495766, 'aalto university': 0.0012091898428053204, 'asian development bank': 0.0012091898428053204, 'brookings institution': 0.0024183796856106408, 'united nations development programme': 0.010882708585247883, 'global environment facility': 0.0012091898428053204, 'university of paris': 0.003627569528415961, 'university of bonn': 0.0024183796856106408, 'national university of la plata': 0.0012091898428053204, 'world bank': 0.05199516324062878, 'university of twente': 0.03506650544135429, 'federal university of technology minna': 0.0012091898428053204, 'national technical university of athens': 0.006045949214026602, 'united nations': 0.03143893591293833, 'aarhus university': 0.007255139056831922, 'university of technology sydney': 0.0024183796856106408, 'university of alabama at birmingham': 0.003627569528415961, 'addis ababa university': 0.008464328899637243, 'technische universitat munchen': 0.0012091898428053204, 'university of manchester': 0.018137847642079805, 'university of potsdam': 0.0024183796856106408, 'university of tubingen': 0.0012091898428053204, 'university of hamburg': 0.003627569528415961, 'university of gothenburg': 0.006045949214026602, 'european observatory on health systems and policies': 0.0012091898428053204, 'national bureau of economic research': 0.0012091898428053204, 'cawthron institute': 0.0024183796856106408, 'environment canterbury': 0.0024183796856106408, 'university of calabria': 0.0024183796856106408, 'university of maryland college park': 0.006045949214026602, 'university of new mexico': 0.003627569528415961, 'university of alaska fairbanks': 0.019347037484885126, 'university of south africa': 0.003627569528415961, 'ohio state university': 0.0048367593712212815, 'carter center': 0.003627569528415961, 'emory university': 0.016928657799274487, 'inner mongolia university': 0.0024183796856106408, 'arizona state university': 0.020556227327690448, 'university of tennessee': 0.009673518742442563, 'university of oxford': 0.05562273276904474, 'seoul national university': 0.006045949214026602, 'universiti tun hussein onn malaysia': 0.0012091898428053204, 'polytechnic university of milan': 0.0012091898428053204, 'polytechnic university of turin': 0.0012091898428053204, 'curtin university': 0.003627569528415961, 'chinese academy of sciences': 0.03264812575574365, 'xiamen university': 0.0012091898428053204, 'georgia institute of technology': 0.003627569528415961, 'poznan university of technology': 0.0024183796856106408, 'international institute for applied systems analysis': 0.03869407496977025, 'swedish university of agricultural sciences': 0.0048367593712212815, 'carleton university': 0.007255139056831922, 'university of ibadan': 0.0024183796856106408, 'university of nebraska lincoln': 0.0048367593712212815, 'shandong university': 0.003627569528415961, 'university of zimbabwe': 0.0012091898428053204, 'university of bern': 0.0024183796856106408, 'spanish national research council': 0.008464328899637243, 'international water management institute': 0.013301088270858524, 'temple university': 0.012091898428053204, 'polytechnic university of catalonia': 0.003627569528415961, 'university of basilicata': 0.0012091898428053204, 'sapienza university of rome': 0.0024183796856106408, 'johns hopkins university': 0.12091898428053204, 'karlsruhe institute of technology': 0.003627569528415961, 'university of tehran': 0.003627569528415961, 'technical university of berlin': 0.0048367593712212815, 'ca foscari university of venice': 0.0024183796856106408, 'mcgill university': 0.010882708585247883, 'university of new south wales': 0.021765417170495766, 'university of sydney': 0.019347037484885126, 'stockholm resilience centre': 0.008464328899637243, 'stellenbosch university': 0.025392986698911726, 'the nature conservancy': 0.007255139056831922, 'university of canberra': 0.0048367593712212815, 'polytechnic university of valencia': 0.0012091898428053204, 'centre national de la recherche scientifique': 0.009673518742442563, 'pennsylvania state university': 0.008464328899637243, 'world agroforestry centre': 0.006045949214026602, 'university of copenhagen': 0.014510278113663844, 'center for international forestry research': 0.010882708585247883, 'university of east anglia': 0.020556227327690448, 'kyoto university': 0.0012091898428053204, 'hedmark university college': 0.0012091898428053204, 'norwegian university of science and technology': 0.0012091898428053204, 'ecole normale superieure': 0.0012091898428053204, 'universite libre de bruxelles': 0.003627569528415961, 'university of antwerp': 0.007255139056831922, 'universidade de passo fundo': 0.006045949214026602, 'deakin university': 0.0024183796856106408, 'jacobs university bremen': 0.0012091898428053204, 'vu university amsterdam': 0.006045949214026602, 'concordia university': 0.0012091898428053204, 'university of illinois at chicago': 0.0024183796856106408, 'illinois institute of technology': 0.0012091898428053204, 'beth israel deaconess medical center': 0.0024183796856106408, 'brigham and women s hospital': 0.018137847642079805, 'university of indonesia': 0.006045949214026602, 'university of southampton': 0.025392986698911726, 'durham university': 0.008464328899637243, 'university of minnesota': 0.015719467956469165, 'sun yat sen university': 0.0012091898428053204, 'university of trento': 0.0024183796856106408, 'food and agriculture organization': 0.006045949214026602, 'university of milan': 0.0024183796856106408, 'national yunlin university of science and technology': 0.0012091898428053204, 'erasmus university rotterdam': 0.003627569528415961, 'delft university of technology': 0.008464328899637243, 'texas a m university': 0.003627569528415961, 'ministry of health and social welfare': 0.0048367593712212815, 'the new school': 0.0012091898428053204, 'center for global development': 0.007255139056831922, 'university of pennsylvania': 0.019347037484885126, 'university of amsterdam': 0.015719467956469165, 'world health organization': 0.1438935912938331, 'united nations environment programme': 0.009673518742442563, 'world bank group': 0.007255139056831922, 'united nations population fund': 0.008464328899637243, 'yale university': 0.021765417170495766, 'university of virginia': 0.006045949214026602, 'new york university': 0.010882708585247883, 'higher university of san andres': 0.0012091898428053204, 'drexel university': 0.003627569528415961, 'international monetary fund': 0.0012091898428053204, 'aga khan university': 0.037484885126964934, 'german development institute': 0.0012091898428053204, 'imperial college london': 0.058041112454655375, 'medical research council': 0.02418379685610641, 'karolinska institutet': 0.022974607013301087, 'university of california san diego': 0.003627569528415961, 'university of glasgow': 0.008464328899637243, 'university of st andrews': 0.0024183796856106408, 'university of dundee': 0.0024183796856106408, 'idaho national laboratory': 0.0012091898428053204, 'university of rostock': 0.0012091898428053204, 'university of the western cape': 0.022974607013301087, 'university of coimbra': 0.0048367593712212815, 'universidade aberta': 0.0048367593712212815, 'laval university': 0.0012091898428053204, 'zhejiang university': 0.0024183796856106408, 'open university': 0.0012091898428053204, 'university of nottingham': 0.010882708585247883, 'university of reading': 0.018137847642079805, 'king s college london': 0.03385731559854897, 'zoological society of london': 0.0048367593712212815, 'instituto superior tecnico': 0.003627569528415961, 'tilburg university': 0.0024183796856106408, 'united states agency for international development': 0.007255139056831922, 'national institutes of health': 0.020556227327690448, 'eni': 0.0024183796856106408, 'university of surrey': 0.0048367593712212815, 'kathmandu': 0.007255139056831922, 'federal fluminense university': 0.003627569528415961, 'council of scientific and industrial research': 0.0012091898428053204, 'shahid beheshti university of medical sciences and health services': 0.0012091898428053204, 'tehran university of medical sciences': 0.003627569528415961, 'hobart corporation': 0.006045949214026602, 'jimma university': 0.0012091898428053204, 'universidad michoacana de san nicolas de hidalgo': 0.0012091898428053204, 'national autonomous university of mexico': 0.009673518742442563, 'tulane university': 0.0024183796856106408, 'great lakes university': 0.0024183796856106408, 'university of nairobi': 0.019347037484885126, 'ziauddin university': 0.0012091898428053204, 'pakistan institute of medical sciences': 0.0024183796856106408, 'cardiff university': 0.0048367593712212815, 'university of malawi': 0.010882708585247883, 'university of namibia': 0.0024183796856106408, 'university of lagos': 0.0012091898428053204, 'all india institute of medical sciences': 0.0024183796856106408, 'north carolina state university': 0.0024183796856106408, 'university of north carolina at chapel hill': 0.03022974607013301, 'centers for disease control and prevention': 0.016928657799274487, 'university of exeter': 0.014510278113663844, 'university of limpopo': 0.0012091898428053204, 'save the children': 0.037484885126964934, 'university of lethbridge': 0.0048367593712212815, 'university of papua new guinea': 0.0012091898428053204, 'royal children s hospital': 0.009673518742442563, 'university of brighton': 0.0012091898428053204, 'university of south australia': 0.003627569528415961, 'humboldt university of berlin': 0.0048367593712212815, 'leibniz association': 0.003627569528415961, 'university of zambia': 0.006045949214026602, 'george washington university': 0.003627569528415961, 'st george s hospital': 0.0012091898428053204, 'university of wollongong': 0.003627569528415961, 'nyenrode business university': 0.0012091898428053204, 'economic policy institute': 0.0024183796856106408, 'ben gurion university of the negev': 0.0012091898428053204, 'university of haifa': 0.0024183796856106408, 'vancouver island university': 0.0012091898428053204, 'ifakara health institute': 0.007255139056831922, 'beijing institute of technology': 0.0012091898428053204, 'pacific northwest national laboratory': 0.0012091898428053204, 'university of michigan': 0.019347037484885126, 'university of tasmania': 0.0048367593712212815, 'international union for conservation of nature and natural resources': 0.008464328899637243, 'university of western sydney': 0.0024183796856106408, 'international centre for diarrhoeal disease research bangladesh': 0.018137847642079805, 'university of cambridge': 0.02418379685610641, 'national research council': 0.006045949214026602, 'pompeu fabra university': 0.0012091898428053204, 'university of barcelona': 0.009673518742442563, 'university college london': 0.058041112454655375, 'vanderbilt university': 0.009673518742442563, 'american university': 0.003627569528415961, 'university of california san francisco': 0.03264812575574365, 'american museum of natural history': 0.0012091898428053204, 'university of kassel': 0.003627569528415961, 'stockholm environment institute': 0.014510278113663844, 'royal institute of technology': 0.009673518742442563, 'blekinge institute of technology': 0.0012091898428053204, 'university of guelph': 0.003627569528415961, 'university of minho': 0.0048367593712212815, 'university of johannesburg': 0.0024183796856106408, 'universiti teknologi malaysia': 0.0012091898428053204, 'university of warwick': 0.006045949214026602, 'university of rome tor vergata': 0.006045949214026602, 'university of salzburg': 0.0012091898428053204, 'research studios austria': 0.0012091898428053204, 'boston university': 0.0048367593712212815, 'maastricht university': 0.003627569528415961, 'university of khartoum': 0.0012091898428053204, 'tshwane university of technology': 0.006045949214026602, 'university of los andes': 0.0012091898428053204, 'liverpool school of tropical medicine': 0.018137847642079805, 'university of aberdeen': 0.008464328899637243, 'radboud university nijmegen': 0.0012091898428053204, 'fhi 360': 0.0024183796856106408, 'federal ministry of health': 0.007255139056831922, 'joint united nations programme on hiv aids': 0.009673518742442563, 'plymouth state university': 0.0024183796856106408, 'university health network': 0.0012091898428053204, 'institut de recherche pour le developpement': 0.0048367593712212815, 'norwegian university of life sciences': 0.003627569528415961, 'gembloux agro bio tech': 0.0012091898428053204, 'united states department of agriculture': 0.015719467956469165, 'london school of economics and political science': 0.009673518742442563, 'macquarie university': 0.0012091898428053204, 'edith cowan university': 0.0024183796856106408, 'georgetown university': 0.006045949214026602, 'wake forest university': 0.0012091898428053204, 'bill melinda gates foundation': 0.019347037484885126, 'university of massachusetts boston': 0.0012091898428053204, 'san francisco state university': 0.0012091898428053204, 'john snow inc': 0.003627569528415961, 'population council': 0.0012091898428053204, 'ryerson university': 0.0012091898428053204, 'flinders university': 0.006045949214026602, 'australian museum': 0.0048367593712212815, 'beijing normal university': 0.010882708585247883, 'university of rhode island': 0.013301088270858524, 'duke university': 0.04715840386940749, 'de la salle university': 0.0012091898428053204, 'national and kapodistrian university of athens': 0.0012091898428053204, 'michigan state university': 0.013301088270858524, 'university of delhi': 0.0012091898428053204, 'university of basel': 0.006045949214026602, 'swiss tropical and public health institute': 0.009673518742442563, 'university of washington': 0.07496977025392987, 'baylor college of medicine': 0.003627569528415961, 'universiti tunku abdul rahman': 0.0024183796856106408, 'world institute for development economics research': 0.0012091898428053204, 'universidade federal do rio grande do sul': 0.0012091898428053204, 'university of chicago': 0.0024183796856106408, 'birdlife international': 0.0048367593712212815, 'conservation international': 0.03264812575574365, 'universite de montreal': 0.0012091898428053204, 'university of malaya': 0.007255139056831922, 'mcmaster university': 0.0024183796856106408, 'max planck society': 0.025392986698911726, 'university of st gallen': 0.0012091898428053204, 'mbarara university of science and technology': 0.0012091898428053204, 'university of toulouse': 0.0012091898428053204, 'katholieke universiteit leuven': 0.0048367593712212815, 'khalifa university': 0.0024183796856106408, 'umea centre for global health research': 0.0012091898428053204, 'pan american health organization': 0.0048367593712212815, 'international livestock research institute': 0.008464328899637243, 'wellcome trust': 0.008464328899637243, 'university of ottawa': 0.0048367593712212815, 'university of the philippines manila': 0.0012091898428053204, 'university of nottingham malaysia campus': 0.0024183796856106408, 'uganda christian university': 0.0012091898428053204, 'islamic azad university': 0.0024183796856106408, 'lund university': 0.013301088270858524, 'world wide fund for nature': 0.007255139056831922, 'rockefeller foundation': 0.003627569528415961, 'university of chile': 0.0048367593712212815, 'indian ministry of environment and forests': 0.0012091898428053204, 'queen mary university of london': 0.009673518742442563, 'university of gottingen': 0.0048367593712212815, 'north china electric power university': 0.0012091898428053204, 'ministry of health and social services': 0.0012091898428053204, 'university of bath': 0.0012091898428053204, 'rothamsted research': 0.008464328899637243, 'charles darwin university': 0.0012091898428053204, 'university of science and technology beijing': 0.0012091898428053204, 'university of california los angeles': 0.0048367593712212815, 'university of south florida': 0.014510278113663844, 'university of granada': 0.0024183796856106408, 'university of la rioja': 0.0012091898428053204, 'mahidol university': 0.006045949214026602, 'university of cincinnati': 0.0012091898428053204, 'university of georgia': 0.0024183796856106408, 'ministry of health and family welfare': 0.0048367593712212815, 'queen s university': 0.0012091898428053204, 'jhpiego': 0.0012091898428053204, 'kwame nkrumah university of science and technology': 0.003627569528415961, 'washington state university': 0.018137847642079805, 'university of oklahoma': 0.0012091898428053204, 'georgetown university law center': 0.003627569528415961, 'mid sweden university': 0.0012091898428053204, 'sodertorn university': 0.0012091898428053204, 'leiden university': 0.0012091898428053204, 'university of adelaide': 0.0048367593712212815, 'institute of tropical medicine antwerp': 0.018137847642079805, 'norwegian institute of public health': 0.003627569528415961, 'university of pamplona': 0.0012091898428053204, 'escuela colombiana de ingenieria': 0.0012091898428053204, 'eduardo mondlane university': 0.0012091898428053204, 'overseas development institute': 0.0024183796856106408, 'uppsala university': 0.006045949214026602, 'la trobe university': 0.009673518742442563, 'free university of brussels': 0.0048367593712212815, 'umea university': 0.013301088270858524, 'san diego state university': 0.014510278113663844, 'mediterranea university of reggio calabria': 0.0012091898428053204, 'university of edinburgh': 0.029020556227327687, 'peking university': 0.02418379685610641, 'sao paulo state university': 0.0012091898428053204, 'university of alicante': 0.0012091898428053204, 'universidad autonoma de yucatan': 0.0012091898428053204, 'public health foundation of india': 0.016928657799274487, 'icahn school of medicine at mount sinai': 0.0048367593712212815, 'murdoch university': 0.0024183796856106408, 'national oceanic and atmospheric administration': 0.02418379685610641, 'centre for the aids programme of research in south africa': 0.007255139056831922, 'university of kwazulu natal': 0.014510278113663844, 'obafemi awolowo university': 0.0012091898428053204, 'empresa brasileira de pesquisa agropecuaria': 0.0024183796856106408, 'federal university of para': 0.0012091898428053204, 'university of split': 0.007255139056831922, 'university of zagreb': 0.0012091898428053204, 'royal tropical institute': 0.003627569528415961, 'kenya medical research institute': 0.008464328899637243, 'chinese center for disease control and prevention': 0.006045949214026602, 'supagro': 0.0012091898428053204, 'china university of geosciences': 0.0024183796856106408, 'great zimbabwe university': 0.0012091898428053204, 'university of health and allied sciences': 0.0024183796856106408, 'national university of malaysia': 0.0024183796856106408, 'kassala university': 0.0012091898428053204, 'bournemouth university': 0.0012091898428053204, 'university of otago': 0.006045949214026602, 'depaul university': 0.0012091898428053204, 'universiti sains malaysia': 0.0012091898428053204, 'university of aveiro': 0.007255139056831922, 'college of health sciences bahrain': 0.014510278113663844, 'university of liverpool': 0.006045949214026602, 'jilin university': 0.0012091898428053204, 'hanoi school of public health': 0.003627569528415961, 'john radcliffe hospital': 0.0024183796856106408, 'university of maryland baltimore': 0.012091898428053204, 'university of calgary': 0.0024183796856106408, 'fudan university': 0.0048367593712212815, 'helmholtz centre for environmental research ufz': 0.012091898428053204, 'university of western australia': 0.0024183796856106408, 'clark university': 0.0012091898428053204, 'university of szczecin': 0.0012091898428053204, 'university of florida': 0.041112454655380895, 'partners in health': 0.007255139056831922, 'trinity college': 0.003627569528415961, 'ludwig maximilian university of munich': 0.0048367593712212815, 'global forum for health research': 0.0012091898428053204, 'guttmacher institute': 0.0012091898428053204, 'royal veterinary college': 0.003627569528415961, 'bayero university kano': 0.0012091898428053204, 'world heart federation': 0.0024183796856106408, 'state university of campinas': 0.003627569528415961, 'universite catholique de louvain': 0.007255139056831922, 'university of houston': 0.0012091898428053204, 'finnish environment institute': 0.0024183796856106408, 'rand corporation': 0.0048367593712212815, 'university of bordeaux': 0.0012091898428053204, 'autonomous university of barcelona': 0.0024183796856106408, 'university of turin': 0.0012091898428053204, 'universidade federal de santa maria': 0.0012091898428053204, 'morgan state university': 0.0012091898428053204, 'universidade federal de pelotas': 0.007255139056831922, 'netherlands environmental assessment agency': 0.015719467956469165, 'potsdam institute for climate impact research': 0.025392986698911726, 'graduate institute of international and development studies': 0.0012091898428053204, 'university of waterloo': 0.010882708585247883, 'international institute for environment and development': 0.003627569528415961, 'paris descartes university': 0.0012091898428053204, 'democritus university of thrace': 0.0012091898428053204, 'international vaccine institute': 0.0012091898428053204, 'unesco ihe institute for water education': 0.003627569528415961, 'james hutton institute': 0.0012091898428053204, 'st george s university of london': 0.0012091898428053204, 'maastricht graduate school of governance': 0.0012091898428053204, 'bayer': 0.0012091898428053204, 'medecins sans frontieres': 0.0024183796856106408, 'international union against tuberculosis and lung disease': 0.008464328899637243, 'university of southern mississippi': 0.0012091898428053204, 'dartmouth college': 0.0024183796856106408, 'bangor university': 0.0024183796856106408, 'university of the west of england': 0.0024183796856106408, 'university of alcala': 0.009673518742442563, 'washington university in st louis': 0.0012091898428053204, 'inter american development bank': 0.0012091898428053204, 'tokyo institute of technology': 0.0012091898428053204, 'university of sheffield': 0.0024183796856106408, 'carnegie mellon university': 0.0012091898428053204, 'tata institute of social sciences': 0.0024183796856106408, 'international institute for population sciences': 0.0024183796856106408, 'indian institute of technology roorkee': 0.0024183796856106408, 'cayetano heredia university': 0.006045949214026602, 'kyushu university': 0.0012091898428053204, 'world vision international': 0.0012091898428053204, 'university of essex': 0.0012091898428053204, 'national institute for medical research': 0.003627569528415961, 'research triangle park': 0.0012091898428053204, 'versailles saint quentin en yvelines university': 0.0012091898428053204, 'heriot watt university': 0.0012091898428053204, 'university of bradford': 0.0012091898428053204, 'coventry university': 0.0012091898428053204, 'st michael s hospital': 0.0012091898428053204, 'charles university in prague': 0.0012091898428053204, 'linkoping university': 0.0012091898428053204, 'rice university': 0.0024183796856106408, 'dalhousie university': 0.0024183796856106408, 'joint global change research institute': 0.0048367593712212815, 'university of valencia': 0.0048367593712212815, 'university of newcastle': 0.0012091898428053204, 'unesco': 0.0012091898428053204, 'university of pittsburgh': 0.0048367593712212815, 'university of the philippines': 0.007255139056831922, 'university of porto': 0.0024183796856106408, 'punjabi university': 0.0012091898428053204, 'heidelberg university': 0.007255139056831922, 'norwegian institute for air research': 0.0048367593712212815, 'oswaldo cruz foundation': 0.007255139056831922, 'american public health association': 0.0012091898428053204, 'american university of beirut': 0.0012091898428053204, 'martin luther university of halle wittenberg': 0.010882708585247883, 'jomo kenyatta university of agriculture and technology': 0.0012091898428053204, 'university of western ontario': 0.0024183796856106408, 'national institute on drug abuse': 0.0012091898428053204, 'university of osnabruck': 0.003627569528415961, 'york university': 0.0024183796856106408, 'oko institut': 0.0024183796856106408, 'food and environment research agency': 0.0012091898428053204, 'kansas state university': 0.0024183796856106408, 'sheffield hallam university': 0.0024183796856106408, 'national university of rwanda': 0.007255139056831922, 'international institute for sustainable development': 0.0012091898428053204, 'south china agricultural university': 0.0012091898428053204, 'university of the free state': 0.006045949214026602, 'national center for atmospheric research': 0.0048367593712212815, 'technion israel institute of technology': 0.0012091898428053204, 'environmental defense fund': 0.0012091898428053204, 'indian institute of technology guwahati': 0.0024183796856106408, 'walchand institute of technology': 0.0024183796856106408, 'manhattan college': 0.0012091898428053204, 'university of connecticut': 0.013301088270858524, 'instituto politecnico nacional': 0.0012091898428053204, 'university of the algarve': 0.0012091898428053204, 'university of science and technology sana a': 0.0012091898428053204, 'stockholm international water institute': 0.0012091898428053204, 'university of vermont': 0.003627569528415961, 'federal university of sao carlos': 0.0012091898428053204, 'university of york': 0.006045949214026602, 'university of geneva': 0.0024183796856106408, 'college of the north atlantic': 0.0012091898428053204, 'uganda virus research institute': 0.0012091898428053204, 'university of gloucestershire': 0.0012091898428053204, 'university of cordoba': 0.0012091898428053204, 'brac university': 0.008464328899637243, 'newcastle university': 0.0024183796856106408, 'charles sturt university': 0.0012091898428053204, 'bangladesh centre for advanced studies': 0.0012091898428053204, 'ithaca college': 0.0012091898428053204, 'masaryk university': 0.0012091898428053204, 'north west university': 0.006045949214026602, 'denver federal center': 0.0012091898428053204, 'manchester metropolitan university': 0.0012091898428053204, 'michigan technological university': 0.0012091898428053204, 'united nations office on drugs and crime': 0.003627569528415961, 'world food programme': 0.003627569528415961, 'aberystwyth university': 0.0012091898428053204, 'international center for tropical agriculture': 0.015719467956469165, 'ansaldo sts': 0.0012091898428053204, 'enea': 0.0012091898428053204, 'simon fraser university': 0.0024183796856106408, 'kaduna state university': 0.0024183796856106408, 'swiss federal institute of aquatic science and technology': 0.0012091898428053204, 'graz university of technology': 0.0024183796856106408, 'university of manitoba': 0.0012091898428053204, 'university of kiel': 0.0024183796856106408, 'kiel institute for the world economy': 0.0048367593712212815, 'northwest university': 0.0012091898428053204, 'university of belgrade': 0.0024183796856106408, 'the chinese university of hong kong': 0.0048367593712212815, 'university of hong kong': 0.003627569528415961, 'university of regina': 0.006045949214026602, 'children s hospital at westmead': 0.0024183796856106408, 'assiut university': 0.0012091898428053204, 'university of bristol': 0.010882708585247883, 'seattle children s': 0.0012091898428053204, 'university of dar es salaam': 0.0012091898428053204, 'keio university': 0.0024183796856106408, 'vilnius gediminas technical university': 0.0012091898428053204, 'pedagogical university': 0.0012091898428053204, 'hanyang university': 0.0024183796856106408, 'medical college of wisconsin': 0.0012091898428053204, 'council for scientific and industrial research': 0.006045949214026602, 'new york blood center': 0.0048367593712212815, 'karolinska university hospital': 0.0024183796856106408, 'national chin yi university of technology': 0.0012091898428053204, 'chaoyang university of technology': 0.0012091898428053204, 'dalle molle institute for artificial intelligence research': 0.0012091898428053204, 'burnet institute': 0.003627569528415961, 'university of saskatchewan': 0.0012091898428053204, 'mcgill university health centre': 0.0012091898428053204, 'university of buenos aires': 0.0012091898428053204, 'lancaster university': 0.009673518742442563, 'hampton university': 0.0024183796856106408, 'world conservation monitoring centre': 0.0024183796856106408, 'royal swedish academy of sciences': 0.0024183796856106408, 'mental health services': 0.0012091898428053204, 'east carolina university': 0.012091898428053204, 'atlantic oceanographic and meteorological laboratory': 0.0024183796856106408, 'qimr berghofer medical research institute': 0.0012091898428053204, 'federal university of bahia': 0.003627569528415961, 'auckland university of technology': 0.006045949214026602, 'national university of ireland galway': 0.0012091898428053204, 'city college of new york': 0.003627569528415961, 'rio de janeiro state university': 0.0024183796856106408, 'research institute of organic agriculture': 0.0012091898428053204, 'asm clermont auvergne': 0.0012091898428053204, 'china agricultural university': 0.0012091898428053204, 'nationwide children s hospital': 0.0012091898428053204, 'sokoine university of agriculture': 0.003627569528415961, 'university of port harcourt': 0.0012091898428053204, 'international medical corps': 0.0012091898428053204, 'government of south africa': 0.0012091898428053204, 'swinburne university of technology': 0.0012091898428053204, 'cooperative research centre': 0.0012091898428053204, 'university of leicester': 0.0024183796856106408, 'beijing forestry university': 0.0012091898428053204, 'bocconi university': 0.006045949214026602, 'city university of new york': 0.0012091898428053204, 'columbia university medical center': 0.0012091898428053204, 'university of nigeria nsukka': 0.0024183796856106408, 'the global fund to fight aids tuberculosis and malaria': 0.0012091898428053204, 'tarbiat modares university': 0.0012091898428053204, 'university of liege': 0.006045949214026602, 'university of strathclyde': 0.0024183796856106408, 'southern cross university': 0.0012091898428053204, 'university of bologna': 0.0012091898428053204, 'federal reserve bank of new york': 0.0012091898428053204, 'ottawa hospital research institute': 0.0012091898428053204, 'millennium institute': 0.0012091898428053204, 'ikerbasque': 0.0012091898428053204, 'energy institute': 0.0012091898428053204, 'czech university of life sciences prague': 0.0012091898428053204, 'tel aviv university': 0.0012091898428053204, 'tallinn university of technology': 0.0012091898428053204, 'march of dimes': 0.0012091898428053204, 'cgiar': 0.018137847642079805, 'glenville state college': 0.0012091898428053204, 'pacific institute': 0.0024183796856106408, 'konkuk university': 0.0012091898428053204, 'health alliance international': 0.0012091898428053204, 'nagoya university': 0.0012091898428053204, 'ucl institute of child health': 0.0024183796856106408, 'goddard institute for space studies': 0.0012091898428053204, 'university of hull': 0.003627569528415961, 'world resources institute': 0.003627569528415961, 'australian catholic university': 0.0012091898428053204, 'national water and sewerage corporation': 0.0012091898428053204, 'international development research centre': 0.0012091898428053204, 'environment agency': 0.0024183796856106408, 'university of texas at el paso': 0.0012091898428053204, 'addis continental institute of public health': 0.003627569528415961, 'university of lorraine': 0.0012091898428053204, 'game wildlife conservation trust': 0.003627569528415961, 'rutgers university': 0.02781136638452237, 'university at buffalo': 0.0024183796856106408, 'university of the west indies': 0.0024183796856106408, 'national defense university': 0.0012091898428053204, 'university of gondar': 0.007255139056831922, 'national health service': 0.0012091898428053204, 'university of ontario institute of technology': 0.0012091898428053204, 'health services academy': 0.0012091898428053204, 'aston university': 0.0012091898428053204, 'jawaharlal nehru medical college aligarh': 0.0024183796856106408, 'university of mataram': 0.0012091898428053204, 'princess margaret cancer centre': 0.0012091898428053204, 'intermountain healthcare': 0.0012091898428053204, 'indian institute of technology bombay': 0.0012091898428053204, 'free university of berlin': 0.0024183796856106408, 'hanoi university': 0.006045949214026602, 'masdar institute of science and technology': 0.0012091898428053204, 'aga khan university hospital': 0.0012091898428053204, 'islamic azad university of karaj': 0.0012091898428053204, 'walter sisulu university': 0.0012091898428053204, 'university for development studies': 0.0012091898428053204, 'pace university': 0.0024183796856106408, 'touro college': 0.0012091898428053204, 'gyeongsang national university': 0.0012091898428053204, 'hebei normal university': 0.0012091898428053204, 'bioversity international': 0.018137847642079805, 'bahir dar university': 0.0024183796856106408, 'liverpool john moores university': 0.0024183796856106408, 'university of rajshahi': 0.0012091898428053204, 'national institute for space research': 0.0024183796856106408, 'johns hopkins university school of medicine': 0.0024183796856106408, 'indian institutes of technology': 0.0012091898428053204, 'marie stopes international': 0.0012091898428053204, 'health effects institute': 0.0012091898428053204, 'university of denver': 0.0012091898428053204, 'instituto de salud carlos iii': 0.0012091898428053204, 'maastricht university medical centre': 0.0012091898428053204, 'iran university of medical sciences': 0.0012091898428053204, 'indian council of agricultural research': 0.0012091898428053204, 'university of cape coast': 0.0024183796856106408, 'european commission': 0.0012091898428053204, 'university of palermo': 0.0012091898428053204, 'hanoi medical university': 0.008464328899637243, 'national dong hwa university': 0.0012091898428053204, 'observer research foundation': 0.0012091898428053204, 'university of insubria': 0.0012091898428053204, 'chongqing university': 0.0012091898428053204, 'vanderbilt university medical center': 0.0024183796856106408, 'seoul national university hospital': 0.003627569528415961, 'chinhoyi university of technology': 0.0012091898428053204, 'public health england': 0.0012091898428053204, 'colorado school of mines': 0.0012091898428053204, 'massachusetts eye and ear infirmary': 0.006045949214026602, 'northumbria university': 0.013301088270858524, 'trent university': 0.0012091898428053204, 'cranfield university': 0.0012091898428053204, 'children s memorial hospital': 0.008464328899637243, 'university of buea': 0.0012091898428053204, 'national yang ming university': 0.0012091898428053204, 'the george institute for global health': 0.006045949214026602, 'sultan qaboos university': 0.0012091898428053204, 'helwan university': 0.0012091898428053204, 'university of valladolid': 0.0012091898428053204, 'international center for agricultural research in the dry areas': 0.006045949214026602, 'university of the basque country': 0.0024183796856106408, 'national museum of natural history': 0.0024183796856106408, 'university of atlanta': 0.0012091898428053204, 'office of environment and heritage': 0.0024183796856106408, 'saint mary s college of california': 0.0012091898428053204, 'international hiv aids alliance': 0.0012091898428053204, 'pacific northwest university of health sciences': 0.0024183796856106408, 'mathematica policy research': 0.0012091898428053204, 'prevention institute': 0.0024183796856106408, 'universidad san francisco de quito': 0.0012091898428053204, 'covenant university': 0.0012091898428053204, 'fuzhou university': 0.0012091898428053204, 'world meteorological organization': 0.0012091898428053204, 'capital university of economics and business': 0.0012091898428053204, 'center for excellence in education': 0.0012091898428053204, 'university of montpellier': 0.0012091898428053204, 'leeds beckett university': 0.0012091898428053204, 'babol noshirvani university of technology': 0.0012091898428053204, 'university of east sarajevo': 0.0012091898428053204, 'nhtv breda university of applied sciences': 0.0012091898428053204, 'university of south florida st petersburg': 0.003627569528415961, 'national ecological observatory network': 0.0024183796856106408, 'tufts medical center': 0.0012091898428053204, 'kazan federal university': 0.0012091898428053204, 'marine biological association of the united kingdom': 0.0012091898428053204, 'business school lausanne': 0.0012091898428053204, 'china west normal university': 0.0012091898428053204, 'global biodiversity information facility': 0.008464328899637243, 'florida museum of natural history': 0.009673518742442563, 'africa rice center': 0.0012091898428053204, 'autonomous university of madrid': 0.0012091898428053204, 'state university of new york at fredonia': 0.0024183796856106408, 'minzu university of china': 0.0012091898428053204, 'dongguan university of technology': 0.0024183796856106408, 'aurecon': 0.0024183796856106408, 'amrita vishwa vidyapeetham': 0.0012091898428053204, 'etseib': 0.0012091898428053204, 'university of toledo': 0.012091898428053204, 'suny downstate medical center': 0.013301088270858524, 'st luke s university health network': 0.012091898428053204, 'mercy medical center': 0.012091898428053204, 'summa health system': 0.012091898428053204, 'baba banda singh bahadur engineering college': 0.0012091898428053204, 'international aids society': 0.0012091898428053204, 'green templeton college': 0.0012091898428053204, 'hamburg university of applied sciences': 0.0012091898428053204, 'universiti utara malaysia': 0.0012091898428053204, 'international organization for migration': 0.0012091898428053204, 'west pomeranian university of technology': 0.0012091898428053204}\n",
      "{'chalmers university of technology': 0.002116113564661423, 'sichuan university': 0.037571262044788466, 'university of california berkeley': 0.11052860942954913, 'stockholm university': 0.0536177056739637, 'university of london': 0.2847334779824357, 'makerere university': 0.0852742937466454, 'rti international': 0.05621226134806008, 'university of wisconsin madison': 0.009244679934311065, 'stanford university': 0.13648108236576909, 'university of california': 0.02494124523964471, 'portland state university': 0.002563665313532227, 'oregon state university': 0.01226904980246605, 'ghent university': 0.0470485696169327, 'umm al qura university': 8.908325072181527e-18, 'birla institute of technology and science': 8.908325072181527e-18, 'teri university': 0.0022868894271191507, 'utrecht university': 0.04274501217115061, 'kyung hee university': 1.0603919050306412e-16, 'purdue university': 0.0027279153792527607, 'indian agricultural research institute': 8.908325072181527e-18, 'university of victoria': 0.012674095436942569, 'george mason university': 0.015041929504831313, 'wageningen university and research centre': 0.0546267952008738, 'agricultural research service': 0.005018718261986706, 'university of california davis': 0.053330910717835724, 'unicef': 0.16171238327230758, 'university of bergen': 0.022389755081469873, 'university of arizona': 0.03125920940931728, 'university of colorado boulder': 0.05572582229905151, 'university of utah': 0.02391789892853091, 'university of tokyo': 0.010478703738044224, 'tohoku university': 0.00039511644855218383, 'international fertilizer development center': 0.002059930207952085, 'university of birmingham': 0.002017766191087953, 'university of brasilia': 0.005366517236797396, 'romanian academy': 8.908325072181527e-18, 'national defence college india': 8.908325072181527e-18, 'mekelle university': 0.0008454308929717765, 'griffith university': 0.033745175411382125, 'princess alexandra hospital': 0.0012722853385028518, 'university of massachusetts amherst': 0.010263662255938728, 'commonwealth scientific and industrial research organisation': 0.0889234423942244, 'oak ridge national laboratory': 0.006846425618537501, 'university of the witwatersrand': 0.15239231329991523, 'amity university': 1.0603919050306412e-16, 'university of miami': 0.004210969821731181, 'south florida water management district': 0.00015876842779933659, 'united states forest service': 0.007192882452095277, 'pontifical catholic university of chile': 0.0003491097919482658, 'massachusetts institute of technology': 0.018651767696433556, 'university of helsinki': 1.0707715512906632e-05, 'united nations university': 0.004896297747951379, 'university of lisbon': 0.0023249361902588726, 'columbia university': 0.1928028137272897, 'universidade nova de lisboa': 0.007277452767331707, 'deutsche gesellschaft fur internationale zusammenarbeit': 8.908325072181527e-18, 'australian national university': 0.10404131642795292, 'harvard university': 0.24241218040607798, 'university of sao paulo': 0.047903753660120216, 'federal university of sao paulo': 0.0018059982043723778, 'federal university of rio de janeiro': 0.026420214866868432, 'university of auckland': 0.08881847777667563, 'south african medical research council': 0.05708152776572841, 'massey university': 8.908325072181527e-18, 'landcare research': 0.0011198302239176158, 'university of queensland': 0.10046656717577485, 'university of melbourne': 0.1332558880204831, 'university of oslo': 0.023585420597774742, 'teikyo university': 0.00039511644855218383, 'university of dhaka': 0.00039511644855218383, 'australian defence force academy': 8.908325072181527e-18, 'cairo university': 8.908325072181527e-18, 'ecole polytechnique federale de lausanne': 0.0075629020560493984, 'swiss federal laboratories for materials science and technology': 0.0006342475370693235, 'university of navarra': 0.005145892541142239, 'fraunhofer society': 0.0002060793182247906, 'national institute for environmental studies': 0.011348215406835473, 'indian institute of management ahmedabad': 0.0003846562082034392, 'international rice research institute': 0.002059930207952085, 'indian institute of science': 0.0003721570181471265, 'lawrence berkeley national laboratory': 0.009827985119962898, 'international food policy research institute': 0.052628448229169324, 'university of illinois at urbana champaign': 0.016841380640009233, 'aalborg university': 8.908325072181527e-18, 'queensland university of technology': 0.011798981603120992, 'university of ghana': 0.033405577067620484, 'university of california santa barbara': 0.016337129103240686, 'university of british columbia': 0.10070226095961188, 'university of cape town': 0.13929352347908847, 'boston children s hospital': 0.07099526483734693, 'university of alberta': 5.413487187645684e-06, 'university of venda': 0.0005944081987974936, 'moi university': 0.005227895966119841, 'university of pretoria': 0.035855160435845364, 'university of toronto': 0.13866925014216047, 'montana state university': 0.00030907570933070167, 'colorado state university': 0.0075447485694594, 'south dakota state university': 0.0003433973006013668, 'utah state university': 0.00036222472516776093, 'university of wyoming': 0.00030907570933070167, 'university of zurich': 0.00016405173101211433, 'university of botswana': 0.0025581296129866724, 'rhodes university': 0.001351743477081804, 'international university cambodia': 8.908325072181527e-18, 'national university of singapore': 0.014724230431640766, 'rmit university': 0.0016501135938340782, 'monash university': 0.033496035818603095, 'university of leeds': 0.06419666269009154, 'eth zurich': 0.009260163052694016, 'cornell university': 0.06899181446238091, 'california institute of technology': 0.0026011119955580767, 'brown university': 0.0010025146066964753, 'woodrow wilson international center for scholars': 0.007495942188150824, 'virginia tech': 0.004796920097826171, 'northwestern university': 0.06186374628640077, 'university of southern california': 0.018715285050564533, 'university of tsukuba': 0.00010793736245080726, 'agro paristech': 0.00020493868556259857, 'institut national de la recherche agronomique': 0.005434913475408289, 'tufts university': 0.043981323042244405, 'united states geological survey': 0.00984642254921588, 'tsinghua university': 0.010587880646212373, 'princeton university': 0.020830391326556133, 'university of eastern finland': 0.007516725621626331, 'united states environmental protection agency': 0.005136593782805907, 'james cook university': 0.04019197945402142, 'aalto university': 7.978876214714484e-05, 'asian development bank': 0.00017074643129781172, 'brookings institution': 0.004529071074761233, 'united nations development programme': 0.029608331524556046, 'global environment facility': 0.0011162488207496735, 'university of paris': 0.0004332883232454067, 'university of bonn': 0.0021689929329912006, 'national university of la plata': 0.004522634165301311, 'world bank': 0.11996168297315377, 'university of twente': 0.054478918924230194, 'federal university of technology minna': 8.908325072181527e-18, 'national technical university of athens': 0.002101006680396496, 'united nations': 0.09074989563126927, 'aarhus university': 0.004350130054885717, 'university of technology sydney': 0.003105352220659101, 'university of alabama at birmingham': 0.006169376706421854, 'addis ababa university': 0.00978105925060762, 'technische universitat munchen': 0.0003491097919482658, 'university of manchester': 0.05326252740579817, 'university of potsdam': 0.0014956707863690844, 'university of tubingen': 0.00014812072918143397, 'university of hamburg': 0.00586535522455233, 'university of gothenburg': 0.013475660302376773, 'european observatory on health systems and policies': 0.01073466611220216, 'national bureau of economic research': 0.000354697750706507, 'cawthron institute': 4.388428968689923e-05, 'environment canterbury': 4.388428968689923e-05, 'university of calabria': 4.5709804614044106e-05, 'university of maryland college park': 0.0036272808520386255, 'university of new mexico': 0.0019814654784736027, 'university of alaska fairbanks': 0.0355486769004326, 'university of south africa': 0.007107161684328697, 'ohio state university': 0.004792615425892346, 'carter center': 0.009036042519263246, 'emory university': 0.07577971727203825, 'inner mongolia university': 0.0025356940869337772, 'arizona state university': 0.036498789608101115, 'university of tennessee': 0.004510975518679474, 'university of oxford': 0.12880806181962867, 'seoul national university': 0.0003519647484228464, 'universiti tun hussein onn malaysia': 8.908325072181527e-18, 'polytechnic university of milan': 8.908325072181527e-18, 'polytechnic university of turin': 8.908325072181527e-18, 'curtin university': 0.010295086300832403, 'chinese academy of sciences': 0.030748359656777247, 'xiamen university': 8.908325072181527e-18, 'georgia institute of technology': 0.003493223352791501, 'poznan university of technology': 0.0025257121343469882, 'international institute for applied systems analysis': 0.06065305533794089, 'swedish university of agricultural sciences': 0.007521613111250051, 'carleton university': 0.006333733758642698, 'university of ibadan': 0.0044395112960279514, 'university of nebraska lincoln': 0.000944496534887214, 'shandong university': 0.0005847517567131627, 'university of zimbabwe': 8.908325072181527e-18, 'university of bern': 0.010159476462293303, 'spanish national research council': 0.010917298131199989, 'international water management institute': 0.02326292455681431, 'temple university': 0.018978897583695836, 'polytechnic university of catalonia': 0.00041277543622317807, 'university of basilicata': 4.854837915775925e-06, 'sapienza university of rome': 0.00012878455917263873, 'johns hopkins university': 0.23935148799630576, 'karlsruhe institute of technology': 0.0006257894879359261, 'university of tehran': 4.710484039621823e-15, 'technical university of berlin': 0.005457708225408673, 'ca foscari university of venice': 2.6006007484232784e-15, 'mcgill university': 0.03223510613196533, 'university of new south wales': 0.041652480607901034, 'university of sydney': 0.06137267903501802, 'stockholm resilience centre': 0.025191223157171386, 'stellenbosch university': 0.06601001205094331, 'the nature conservancy': 0.011789281732580167, 'university of canberra': 0.006590048326277178, 'polytechnic university of valencia': 7.802677012458069e-05, 'centre national de la recherche scientifique': 0.007245471621221706, 'pennsylvania state university': 0.018437745687999853, 'world agroforestry centre': 0.0048849628884045275, 'university of copenhagen': 0.03265159109562905, 'center for international forestry research': 0.015624523175662205, 'university of east anglia': 0.04399862138325566, 'kyoto university': 8.908325072181527e-18, 'hedmark university college': 8.908325072181527e-18, 'norwegian university of science and technology': 8.908325072181527e-18, 'ecole normale superieure': 1.6337961374311196e-05, 'universite libre de bruxelles': 0.008138995657343372, 'university of antwerp': 0.01503179925936883, 'universidade de passo fundo': 3.774966646922758e-05, 'deakin university': 0.010207256005085742, 'jacobs university bremen': 8.908325072181527e-18, 'vu university amsterdam': 0.00710832734552761, 'concordia university': 0.0033529948481947564, 'university of illinois at chicago': 0.0077156849803605935, 'illinois institute of technology': 0.00013170555667475935, 'beth israel deaconess medical center': 0.011857147696696395, 'brigham and women s hospital': 0.07209297581007823, 'university of indonesia': 0.01639052840773317, 'university of southampton': 0.08202656123362805, 'durham university': 0.02780269040492653, 'university of minnesota': 0.039259161695712204, 'sun yat sen university': 0.001159473413829484, 'university of trento': 1.499620613515119e-16, 'food and agriculture organization': 0.012160200672759608, 'university of milan': 2.6006007484232784e-15, 'national yunlin university of science and technology': 8.908325072181527e-18, 'erasmus university rotterdam': 0.011033900885560726, 'delft university of technology': 0.009873657955094107, 'texas a m university': 0.004663767551487282, 'ministry of health and social welfare': 0.024338021483984954, 'the new school': 0.006096599378208176, 'center for global development': 0.029730235685992486, 'university of pennsylvania': 0.06785378278615663, 'university of amsterdam': 0.022143076528434537, 'world health organization': 0.2690941679523446, 'united nations environment programme': 0.010200519008828684, 'world bank group': 0.030573240430611732, 'united nations population fund': 0.040714671483296064, 'yale university': 0.06672521497077724, 'university of virginia': 0.021948271086731086, 'new york university': 0.02578113208667346, 'higher university of san andres': 1.0603919050306412e-16, 'drexel university': 0.004889394313374827, 'international monetary fund': 0.004522634165301311, 'aga khan university': 0.12063348472356566, 'german development institute': 8.908325072181527e-18, 'imperial college london': 0.1398591859075427, 'medical research council': 0.08765483195489827, 'karolinska institutet': 0.06813379397563335, 'university of california san diego': 0.009408330605064586, 'university of glasgow': 0.018517739729906103, 'university of st andrews': 0.0022881920505115534, 'university of dundee': 0.004878514751009793, 'idaho national laboratory': 0.0002581512463894782, 'university of rostock': 0.00038300501705154096, 'university of the western cape': 0.07293365942775033, 'university of coimbra': 0.00030204784318623346, 'universidade aberta': 0.00030204784318623346, 'laval university': 0.00047782636498733077, 'zhejiang university': 0.0022434079902759465, 'open university': 0.0021598823869805424, 'university of nottingham': 0.012615671381795144, 'university of reading': 0.04737063829458227, 'king s college london': 0.11758486341904816, 'zoological society of london': 0.00604598218383448, 'instituto superior tecnico': 0.0003701021960939998, 'tilburg university': 0.00411418521398296, 'united states agency for international development': 0.039586002898439686, 'national institutes of health': 0.07329662971266682, 'eni': 0.002984030489170412, 'university of surrey': 0.016097365087896973, 'kathmandu': 0.031111239676664612, 'federal fluminense university': 0.0031257829385107653, 'council of scientific and industrial research': 0.005745317173180525, 'shahid beheshti university of medical sciences and health services': 2.1251357530469843e-15, 'tehran university of medical sciences': 4.364100587546077e-15, 'hobart corporation': 0.010547707053965995, 'jimma university': 9.849897441435239e-05, 'universidad michoacana de san nicolas de hidalgo': 0.0007377315122987114, 'national autonomous university of mexico': 0.01956535881753494, 'tulane university': 0.019168722201200642, 'great lakes university': 0.002020637685361607, 'university of nairobi': 0.0535217843169163, 'ziauddin university': 9.791405935568569e-05, 'pakistan institute of medical sciences': 0.0025972751826282663, 'cardiff university': 0.0016830671148789955, 'university of malawi': 0.04217640534427322, 'university of namibia': 0.002606061270430847, 'university of lagos': 0.00564689154080186, 'all india institute of medical sciences': 0.006827163118658236, 'north carolina state university': 0.007498150700631039, 'university of north carolina at chapel hill': 0.08735164613370407, 'centers for disease control and prevention': 0.06034685665219802, 'university of exeter': 0.03179752557070538, 'university of limpopo': 0.005251549773659862, 'save the children': 0.11947059311116061, 'university of lethbridge': 0.004108362867445489, 'university of papua new guinea': 0.005023923529256554, 'royal children s hospital': 0.03906614101680815, 'university of brighton': 8.908325072181527e-18, 'university of south australia': 0.00040981803854102985, 'humboldt university of berlin': 0.0036757015113597627, 'leibniz association': 0.0009277714252526435, 'university of zambia': 0.03495005887721208, 'george washington university': 0.0149225394721412, 'st george s hospital': 0.004433200254380849, 'university of wollongong': 0.012110880248989174, 'nyenrode business university': 0.0016117428322963742, 'economic policy institute': 0.013546318799036908, 'ben gurion university of the negev': 1.0603919050306412e-16, 'university of haifa': 1.499620613515119e-16, 'vancouver island university': 0.00047782636498733077, 'ifakara health institute': 0.03138609600095574, 'beijing institute of technology': 0.0003991926982879924, 'pacific northwest national laboratory': 0.0002581512463894782, 'university of michigan': 0.062253673253540406, 'university of tasmania': 0.009034339800053576, 'international union for conservation of nature and natural resources': 0.011247451447062464, 'university of western sydney': 0.004907513024968869, 'international centre for diarrhoeal disease research bangladesh': 0.06879577031729571, 'university of cambridge': 0.05728834489612527, 'national research council': 0.00116624169355082, 'pompeu fabra university': 0.0010423130736945585, 'university of barcelona': 0.027646737591351635, 'university college london': 0.14977942724349086, 'vanderbilt university': 0.039797072587702445, 'american university': 0.007155484643216401, 'university of california san francisco': 0.1066102882701904, 'american museum of natural history': 0.000540032138029908, 'university of kassel': 0.002795836959211616, 'stockholm environment institute': 0.03209140348438958, 'royal institute of technology': 0.01774304476011456, 'blekinge institute of technology': 0.002071004358614809, 'university of guelph': 0.0019148912371700479, 'university of minho': 0.00021373376569151824, 'university of johannesburg': 0.0015362931581357484, 'universiti teknologi malaysia': 0.0007196407463691093, 'university of warwick': 0.02351615681285157, 'university of rome tor vergata': 0.003411213197276264, 'university of salzburg': 8.908325072181527e-18, 'research studios austria': 8.908325072181527e-18, 'boston university': 0.026591226934644573, 'maastricht university': 0.002353732920498258, 'university of khartoum': 8.908325072181527e-18, 'tshwane university of technology': 0.015766975109003222, 'university of los andes': 0.0028569030218848898, 'liverpool school of tropical medicine': 0.061934665376851585, 'university of aberdeen': 0.029826458250818567, 'radboud university nijmegen': 8.873975320989001e-05, 'fhi 360': 0.0071447634111327036, 'federal ministry of health': 0.021370975332481543, 'joint united nations programme on hiv aids': 0.031198672923564454, 'plymouth state university': 0.004254543003226895, 'university health network': 0.005227895966119841, 'institut de recherche pour le developpement': 0.011370928728986545, 'norwegian university of life sciences': 0.0010541365140047207, 'gembloux agro bio tech': 7.893341890206685e-05, 'united states department of agriculture': 0.025144714279723625, 'london school of economics and political science': 0.01849037457239805, 'macquarie university': 0.00014812072918143397, 'edith cowan university': 0.0039283168268507895, 'georgetown university': 0.016965025977753373, 'wake forest university': 0.00564689154080186, 'bill melinda gates foundation': 0.09070493512372978, 'university of massachusetts boston': 8.908325072181527e-18, 'san francisco state university': 8.908325072181527e-18, 'john snow inc': 0.016728149943220142, 'population council': 8.908325072181527e-18, 'ryerson university': 0.0025156646198243684, 'flinders university': 0.008472823023717135, 'australian museum': 0.007143424035242076, 'beijing normal university': 0.005231915118310891, 'university of rhode island': 0.030638183408394453, 'duke university': 0.1115311881296135, 'de la salle university': 2.3495454263244225e-06, 'national and kapodistrian university of athens': 0.01073466611220216, 'michigan state university': 0.028746845047074282, 'university of delhi': 0.0020080227554239607, 'university of basel': 0.014324724927281717, 'swiss tropical and public health institute': 0.04165316798624256, 'university of washington': 0.17886830445193702, 'baylor college of medicine': 0.00953474845394824, 'universiti tunku abdul rahman': 1.9640910728817476e-05, 'world institute for development economics research': 0.00018460787611516223, 'universidade federal do rio grande do sul': 8.908325072181527e-18, 'university of chicago': 0.013228668156904468, 'birdlife international': 0.006594398403845524, 'conservation international': 0.052985669710225315, 'universite de montreal': 0.0012152847414048603, 'university of malaya': 0.0005202367347548404, 'mcmaster university': 0.01436708296912738, 'max planck society': 0.043887263040292, 'university of st gallen': 8.908325072181527e-18, 'mbarara university of science and technology': 0.00309246741920417, 'university of toulouse': 0.00041165745913933317, 'katholieke universiteit leuven': 0.002090937785737705, 'khalifa university': 2.6006007484232784e-15, 'umea centre for global health research': 0.005745317173180525, 'pan american health organization': 0.027299977900927256, 'international livestock research institute': 0.023026638102348975, 'wellcome trust': 0.04021376314872802, 'university of ottawa': 0.015251034341465703, 'university of the philippines manila': 0.010145037567465043, 'university of nottingham malaysia campus': 6.230705635282815e-05, 'uganda christian university': 0.003214839476320984, 'islamic azad university': 3.010380439417553e-15, 'lund university': 0.05493190797798586, 'world wide fund for nature': 0.011862068784553188, 'rockefeller foundation': 0.02102648284434133, 'university of chile': 0.0034065347168490785, 'indian ministry of environment and forests': 0.002017766191087953, 'queen mary university of london': 0.048292401303743626, 'university of gottingen': 0.009805376707372087, 'north china electric power university': 0.00011600211567280311, 'ministry of health and social services': 0.010145037567465043, 'university of bath': 0.010145037567465043, 'rothamsted research': 0.014576944369001931, 'charles darwin university': 8.908325072181527e-18, 'university of science and technology beijing': 0.00047782636498733077, 'university of california los angeles': 0.016932216765359605, 'university of south florida': 0.019087379698899263, 'university of granada': 1.499620613515119e-16, 'university of la rioja': 1.0603919050306412e-16, 'mahidol university': 0.03160130270824905, 'university of cincinnati': 0.00019365730947625963, 'university of georgia': 0.0027947693050343362, 'ministry of health and family welfare': 0.02925135298336858, 'queen s university': 0.00027974181950758247, 'jhpiego': 0.009023684633735598, 'kwame nkrumah university of science and technology': 0.008462904862580568, 'washington state university': 0.032579505778931116, 'university of oklahoma': 8.908325072181527e-18, 'georgetown university law center': 0.00944894177564968, 'mid sweden university': 0.0020217444592100435, 'sodertorn university': 0.0006690227334351584, 'leiden university': 0.0002680644067977014, 'university of adelaide': 0.006176885526241971, 'institute of tropical medicine antwerp': 0.05844270642298218, 'norwegian institute of public health': 0.016126697657576558, 'university of pamplona': 8.908325072181527e-18, 'escuela colombiana de ingenieria': 8.908325072181527e-18, 'eduardo mondlane university': 0.009139187003007539, 'overseas development institute': 0.010918888741695788, 'uppsala university': 0.007835109824015607, 'la trobe university': 0.029200172660233784, 'free university of brussels': 0.002090937785737705, 'umea university': 0.05139798549380698, 'san diego state university': 0.030680222836905618, 'mediterranea university of reggio calabria': 0.0011568374438428745, 'university of edinburgh': 0.09864287763708396, 'peking university': 0.0758373797905324, 'sao paulo state university': 0.0018059982043723778, 'university of alicante': 8.908325072181527e-18, 'universidad autonoma de yucatan': 8.908325072181527e-18, 'public health foundation of india': 0.06162068805167392, 'icahn school of medicine at mount sinai': 0.02172579436463856, 'murdoch university': 0.002003098158009831, 'national oceanic and atmospheric administration': 0.03943154868352282, 'centre for the aids programme of research in south africa': 0.02760838582560448, 'university of kwazulu natal': 0.04068000092617374, 'obafemi awolowo university': 0.00016738354940435272, 'empresa brasileira de pesquisa agropecuaria': 0.0009975280166588745, 'federal university of para': 3.7610112547069504e-05, 'university of split': 0.02516529831869634, 'university of zagreb': 0.0009487190676923842, 'royal tropical institute': 0.004029397722849616, 'kenya medical research institute': 0.022507495456597505, 'chinese center for disease control and prevention': 0.024951974926728654, 'supagro': 0.00020493868556259857, 'china university of geosciences': 0.002863130587779704, 'great zimbabwe university': 0.0002679413168746359, 'university of health and allied sciences': 0.00130878652120458, 'national university of malaysia': 1.9640910728817476e-05, 'kassala university': 8.908325072181527e-18, 'bournemouth university': 1.0603919050306412e-16, 'university of otago': 0.024984179649536125, 'depaul university': 0.003922731239354325, 'universiti sains malaysia': 1.961299791598469e-05, 'university of aveiro': 0.00039430070900921683, 'college of health sciences bahrain': 0.03532621215573755, 'university of liverpool': 0.04137749562079603, 'jilin university': 0.001159473413829484, 'hanoi school of public health': 0.00035100002689953085, 'john radcliffe hospital': 0.0063724821562282825, 'university of maryland baltimore': 0.04750300413487856, 'university of calgary': 0.00014356565231086067, 'fudan university': 0.007660819745960623, 'helmholtz centre for environmental research ufz': 0.015164566118152527, 'university of western australia': 0.009533094726011843, 'clark university': 0.0013762206731042928, 'university of szczecin': 8.908325072181527e-18, 'university of florida': 0.07541030997853707, 'partners in health': 0.02820367365393796, 'trinity college': 0.012651702116860675, 'ludwig maximilian university of munich': 0.0020981282593649795, 'global forum for health research': 0.009023684633735598, 'guttmacher institute': 0.010145037567465043, 'royal veterinary college': 0.02165445840217202, 'bayero university kano': 8.908325072181527e-18, 'world heart federation': 0.003142167536505864, 'state university of campinas': 0.024802434919021524, 'universite catholique de louvain': 0.004229918090940158, 'university of houston': 0.0013762206731042928, 'finnish environment institute': 0.00028386808882098746, 'rand corporation': 0.014949055707063136, 'university of bordeaux': 0.00027320955265192434, 'autonomous university of barcelona': 0.001057879278247816, 'university of turin': 4.398517637020056e-05, 'universidade federal de santa maria': 8.908325072181527e-18, 'morgan state university': 4.810699585260357e-05, 'universidade federal de pelotas': 0.037848804926037365, 'netherlands environmental assessment agency': 0.029611318591742108, 'potsdam institute for climate impact research': 0.035990795282717904, 'graduate institute of international and development studies': 0.01073466611220216, 'university of waterloo': 0.007419673215227303, 'international institute for environment and development': 0.004558198614182747, 'paris descartes university': 0.010145037567465043, 'democritus university of thrace': 7.921662009701389e-05, 'international vaccine institute': 0.004547918405657652, 'unesco ihe institute for water education': 0.0032671831251789712, 'james hutton institute': 0.0017860473318056236, 'st george s university of london': 0.0004756760038329812, 'maastricht graduate school of governance': 0.00041598890834763767, 'bayer': 0.002059930207952085, 'medecins sans frontieres': 0.011873211139599412, 'international union against tuberculosis and lung disease': 0.030200125433099693, 'university of southern mississippi': 8.908325072181527e-18, 'dartmouth college': 0.018162871636743134, 'bangor university': 0.00335868661331057, 'university of the west of england': 0.011606651909351373, 'university of alcala': 0.007495942188150825, 'washington university in st louis': 0.0021598823869805424, 'inter american development bank': 0.0006383526680636294, 'tokyo institute of technology': 0.003421424119822572, 'university of sheffield': 0.007654914296225821, 'carnegie mellon university': 0.0041670628777305515, 'tata institute of social sciences': 2.6006007484232784e-15, 'international institute for population sciences': 2.6006007484232784e-15, 'indian institute of technology roorkee': 2.6006007484232784e-15, 'cayetano heredia university': 0.03522635457075084, 'kyushu university': 0.0007032054297164552, 'world vision international': 0.0011832678788245513, 'university of essex': 0.010145037567465043, 'national institute for medical research': 0.02211076552924576, 'research triangle park': 0.007269206089803693, 'versailles saint quentin en yvelines university': 0.0004287550524262166, 'heriot watt university': 7.404617147840366e-07, 'university of bradford': 8.908325072181527e-18, 'coventry university': 8.908325072181527e-18, 'st michael s hospital': 0.005227895966119841, 'charles university in prague': 8.908325072181527e-18, 'linkoping university': 6.247658125773753e-05, 'rice university': 0.0030360919528153777, 'dalhousie university': 0.00380219532712189, 'joint global change research institute': 0.0042220831860407095, 'university of valencia': 0.002068762365250736, 'university of newcastle': 7.802677012458069e-05, 'unesco': 0.00024845931010425377, 'university of pittsburgh': 0.014714527444912313, 'university of the philippines': 0.034064170680569814, 'university of porto': 0.00028566361437103047, 'punjabi university': 8.908325072181527e-18, 'heidelberg university': 0.029522315802720887, 'norwegian institute for air research': 0.0020981282593649795, 'oswaldo cruz foundation': 0.008585311176763642, 'american public health association': 0.0013317744631742847, 'american university of beirut': 0.009023684633735598, 'martin luther university of halle wittenberg': 0.009133010933835384, 'jomo kenyatta university of agriculture and technology': 0.0008485666204206666, 'university of western ontario': 0.004076523659441826, 'national institute on drug abuse': 0.0027632698862628253, 'university of osnabruck': 4.8249590218263144e-05, 'york university': 1.8906246362802565e-06, 'oko institut': 1.8906246362802565e-06, 'food and environment research agency': 0.002420337635741928, 'kansas state university': 0.0003200878873965168, 'sheffield hallam university': 0.012153060322889004, 'national university of rwanda': 0.02694902856736407, 'international institute for sustainable development': 8.908325072181527e-18, 'south china agricultural university': 0.001159473413829484, 'university of the free state': 0.014150433759357603, 'national center for atmospheric research': 0.008941731490034818, 'technion israel institute of technology': 1.0603919050306412e-16, 'environmental defense fund': 0.0005080541522358037, 'indian institute of technology guwahati': 1.4580402778916617e-05, 'walchand institute of technology': 1.4580402778916617e-05, 'manhattan college': 8.908325072181527e-18, 'university of connecticut': 0.04233283601813094, 'instituto politecnico nacional': 8.058908515449132e-06, 'university of the algarve': 0.00027436975027021846, 'university of science and technology sana a': 8.908325072181527e-18, 'stockholm international water institute': 1.556620455325752e-05, 'university of vermont': 0.003196708797569278, 'federal university of sao carlos': 0.0018059982043723778, 'university of york': 0.035024923779087155, 'university of geneva': 0.020879703679667204, 'college of the north atlantic': 4.398517637020056e-05, 'uganda virus research institute': 0.003304594622264861, 'university of gloucestershire': 0.0015704283499392148, 'university of cordoba': 0.00041165745913933317, 'brac university': 0.04197770559137837, 'newcastle university': 0.0061391499362093, 'charles sturt university': 0.000940318277282081, 'bangladesh centre for advanced studies': 0.00017185623597332442, 'ithaca college': 0.009023684633735598, 'masaryk university': 0.00013677118852862524, 'north west university': 0.009131956481602218, 'denver federal center': 0.0003712724075209139, 'manchester metropolitan university': 1.423348654060749e-06, 'michigan technological university': 0.0002581512463894782, 'united nations office on drugs and crime': 0.007290749114186431, 'world food programme': 0.017950980748793758, 'aberystwyth university': 0.0011988042263300276, 'international center for tropical agriculture': 0.03156958346632342, 'ansaldo sts': 8.908325072181527e-18, 'enea': 8.908325072181527e-18, 'simon fraser university': 0.0019385589759221477, 'kaduna state university': 0.00028566361437103047, 'swiss federal institute of aquatic science and technology': 0.000540032138029908, 'graz university of technology': 0.0036439389428106796, 'university of manitoba': 0.010145037567465043, 'university of kiel': 0.0011837397670768715, 'kiel institute for the world economy': 0.0018764098258468452, 'northwest university': 0.005145892541142239, 'university of belgrade': 1.499620613515119e-16, 'the chinese university of hong kong': 0.024759737898547986, 'university of hong kong': 0.00753460883554301, 'university of regina': 0.0030769273024270857, 'children s hospital at westmead': 0.0026113487153181535, 'assiut university': 0.004019257110397814, 'university of bristol': 0.03877016693701114, 'seattle children s': 0.006743670059115713, 'university of dar es salaam': 0.0015703144815516997, 'keio university': 0.0036334872915064174, 'vilnius gediminas technical university': 8.908325072181527e-18, 'pedagogical university': 8.908325072181527e-18, 'hanyang university': 4.5709804614044106e-05, 'medical college of wisconsin': 0.004204983523168872, 'council for scientific and industrial research': 0.010543395568734314, 'new york blood center': 0.008145131681358784, 'karolinska university hospital': 0.006365438343904303, 'national chin yi university of technology': 8.908325072181527e-18, 'chaoyang university of technology': 8.908325072181527e-18, 'dalle molle institute for artificial intelligence research': 0.002059930207952085, 'burnet institute': 0.018956738649552916, 'university of saskatchewan': 0.003796781839934244, 'mcgill university health centre': 0.0012152847414048603, 'university of buenos aires': 0.0001701083437139122, 'lancaster university': 0.01969425027051692, 'hampton university': 0.00036222472516776093, 'world conservation monitoring centre': 0.0023202845433039875, 'royal swedish academy of sciences': 0.002305405527932006, 'mental health services': 0.0018059982043723778, 'east carolina university': 0.018978897583695836, 'atlantic oceanographic and meteorological laboratory': 0.0015722690837907324, 'qimr berghofer medical research institute': 0.001328021816675559, 'federal university of bahia': 0.007402573796592257, 'auckland university of technology': 0.0034254351658631124, 'national university of ireland galway': 0.00047696678424338123, 'city college of new york': 0.0012759186144692374, 'rio de janeiro state university': 0.0021296730474242584, 'research institute of organic agriculture': 0.002059930207952085, 'asm clermont auvergne': 0.00027320955265192434, 'china agricultural university': 0.0037188123004673725, 'nationwide children s hospital': 0.009023684633735598, 'sokoine university of agriculture': 0.0019663528247912555, 'university of port harcourt': 1.0603919050306412e-16, 'international medical corps': 0.009023684633735598, 'government of south africa': 0.01073466611220216, 'swinburne university of technology': 0.005023923529256554, 'cooperative research centre': 0.001262957074544665, 'university of leicester': 0.0016570215755547344, 'beijing forestry university': 0.001159473413829484, 'bocconi university': 0.014254837703615256, 'city university of new york': 8.908325072181527e-18, 'columbia university medical center': 0.004522634165301311, 'university of nigeria nsukka': 1.499620613515119e-16, 'the global fund to fight aids tuberculosis and malaria': 0.010145037567465043, 'tarbiat modares university': 2.294841955532903e-15, 'university of liege': 0.0020938050378740917, 'university of strathclyde': 0.0018644421703697058, 'southern cross university': 0.0015154987725451968, 'university of bologna': 0.00019730347329275952, 'federal reserve bank of new york': 0.007269206089803693, 'ottawa hospital research institute': 0.0005749623809439151, 'millennium institute': 0.0008441131397167469, 'ikerbasque': 8.908325072181527e-18, 'energy institute': 8.908325072181527e-18, 'czech university of life sciences prague': 0.0017737163989614846, 'tel aviv university': 0.0010423130736945585, 'tallinn university of technology': 8.908325072181527e-18, 'march of dimes': 0.01073466611220216, 'cgiar': 0.02535421655661895, 'glenville state college': 8.908325072181527e-18, 'pacific institute': 0.006213469008214262, 'konkuk university': 1.3271950040584829e-05, 'health alliance international': 0.006743670059115713, 'nagoya university': 0.0033529948481947564, 'ucl institute of child health': 0.019758350745937753, 'goddard institute for space studies': 0.007269206089803693, 'university of hull': 0.003453343734446068, 'world resources institute': 0.012189250449642818, 'australian catholic university': 0.0005551560515083746, 'national water and sewerage corporation': 0.0028432486196973165, 'international development research centre': 0.009139187003007539, 'environment agency': 0.004398407243187306, 'university of texas at el paso': 0.00018432408121228357, 'addis continental institute of public health': 0.0017990495668310173, 'university of lorraine': 0.00027320955265192434, 'game wildlife conservation trust': 0.0034072566931136017, 'rutgers university': 0.055540816041332375, 'university at buffalo': 0.0035636809977990487, 'university of the west indies': 0.007018734509653174, 'national defense university': 8.908325072181527e-18, 'university of gondar': 0.0026127419811205824, 'national health service': 0.010145037567465043, 'university of ontario institute of technology': 0.00047782636498733077, 'health services academy': 0.004547918405657652, 'aston university': 0.002054255006030874, 'jawaharlal nehru medical college aligarh': 0.002995848941743445, 'university of mataram': 0.0033529948481947564, 'princess margaret cancer centre': 0.005227895966119841, 'intermountain healthcare': 0.009139187003007539, 'indian institute of technology bombay': 0.0007032054297164552, 'free university of berlin': 0.0039283168268507895, 'hanoi university': 0.010900236024234698, 'masdar institute of science and technology': 0.0007032054297164552, 'aga khan university hospital': 0.009023684633735598, 'islamic azad university of karaj': 1.4673110797770669e-15, 'walter sisulu university': 0.0005335038213114445, 'university for development studies': 0.0012594435326877147, 'pace university': 0.0039283168268507895, 'touro college': 0.00014812072918143397, 'gyeongsang national university': 1.3271950040584829e-05, 'hebei normal university': 0.00019730347329275952, 'bioversity international': 0.04189547350149576, 'bahir dar university': 0.0017005505924166647, 'liverpool john moores university': 1.499620613515119e-16, 'university of rajshahi': 0.00039511644855218383, 'national institute for space research': 0.002802108095458885, 'johns hopkins university school of medicine': 0.01223852411005658, 'indian institutes of technology': 1.4030701430487123e-05, 'marie stopes international': 0.01073466611220216, 'health effects institute': 0.010145037567465043, 'university of denver': 0.003922731239354325, 'instituto de salud carlos iii': 8.908325072181527e-18, 'maastricht university medical centre': 8.873975320989001e-05, 'iran university of medical sciences': 2.1251357530469843e-15, 'indian council of agricultural research': 8.908325072181527e-18, 'university of cape coast': 0.00130878652120458, 'european commission': 0.0020217444592100435, 'university of palermo': 7.802677012458069e-05, 'hanoi medical university': 0.008606134367034684, 'national dong hwa university': 0.00027974181950758247, 'observer research foundation': 8.908325072181527e-18, 'university of insubria': 1.0603919050306412e-16, 'chongqing university': 8.908325072181527e-18, 'vanderbilt university medical center': 0.011741015781687087, 'seoul national university hospital': 0.00035100002689953085, 'chinhoyi university of technology': 8.908325072181527e-18, 'public health england': 0.003421424119822572, 'colorado school of mines': 0.0022868894271191507, 'massachusetts eye and ear infirmary': 0.018113929894593584, 'northumbria university': 0.030638183408394457, 'trent university': 0.002488683098301509, 'cranfield university': 0.002059930207952085, 'children s memorial hospital': 0.03412144421717785, 'university of buea': 0.01073466611220216, 'national yang ming university': 7.617597174135985e-05, 'the george institute for global health': 0.03433649340956694, 'sultan qaboos university': 8.908325072181527e-18, 'helwan university': 8.908325072181527e-18, 'university of valladolid': 1.0603919050306412e-16, 'international center for agricultural research in the dry areas': 0.0105432699220511, 'university of the basque country': 0.0016570215755547344, 'national museum of natural history': 0.0037557051662748136, 'university of atlanta': 0.002017766191087953, 'office of environment and heritage': 0.0022672085610973575, 'saint mary s college of california': 7.77107822561536e-06, 'international hiv aids alliance': 0.0011761820911098187, 'pacific northwest university of health sciences': 0.0012705196188584305, 'mathematica policy research': 0.0041670628777305515, 'prevention institute': 0.0034876795410692485, 'universidad san francisco de quito': 0.0032931671774621665, 'covenant university': 1.0603919050306412e-16, 'fuzhou university': 8.908325072181527e-18, 'world meteorological organization': 0.0017860473318056236, 'capital university of economics and business': 0.00011600211567280311, 'center for excellence in education': 0.001159473413829484, 'university of montpellier': 0.005272900749167999, 'leeds beckett university': 6.247658125773753e-05, 'babol noshirvani university of technology': 8.908325072181527e-18, 'university of east sarajevo': 1.0603919050306412e-16, 'nhtv breda university of applied sciences': 0.0005667007033579748, 'university of south florida st petersburg': 0.002265762483412275, 'national ecological observatory network': 0.0023742488942434035, 'tufts medical center': 0.009139187003007539, 'kazan federal university': 8.908325072181527e-18, 'marine biological association of the united kingdom': 0.0014868289855544347, 'business school lausanne': 8.908325072181527e-18, 'china west normal university': 0.0010839345764464626, 'global biodiversity information facility': 0.007434764950575186, 'florida museum of natural history': 0.007495942188150825, 'africa rice center': 0.002054255006030874, 'autonomous university of madrid': 8.908325072181527e-18, 'state university of new york at fredonia': 0.000434647103326857, 'minzu university of china': 0.00019730347329275952, 'dongguan university of technology': 0.0003133055889655626, 'aurecon': 0.010107969266182593, 'amrita vishwa vidyapeetham': 8.908325072181527e-18, 'etseib': 8.908325072181527e-18, 'university of toledo': 0.018978897583695836, 'suny downstate medical center': 0.01910838555747415, 'st luke s university health network': 0.018978897583695836, 'mercy medical center': 0.018978897583695836, 'summa health system': 0.018978897583695836, 'baba banda singh bahadur engineering college': 8.908325072181527e-18, 'international aids society': 0.010145037567465043, 'green templeton college': 1.961299791598469e-05, 'hamburg university of applied sciences': 1.423348654060749e-06, 'universiti utara malaysia': 7.404617147840366e-07, 'international organization for migration': 0.01073466611220216, 'west pomeranian university of technology': 8.908325072181527e-18}\n"
     ]
    }
   ],
   "source": [
    "dc = nx.degree_centrality(subview)\n",
    "print(dc)\n",
    "ec = nx.eigenvector_centrality(subview)\n",
    "print(ec)"
   ]
  },
  {
   "cell_type": "code",
   "execution_count": null,
   "metadata": {
    "collapsed": false
   },
   "outputs": [],
   "source": [
    "from operator import itemgetter\n",
    "from pprint import pprint\n",
    "\n",
    "measure = ec\n",
    "\n",
    "measure_sorted = sorted(measure.items(), key=itemgetter(1), reverse=True)\n",
    "pprint(measure_sorted)"
   ]
  },
  {
   "cell_type": "code",
   "execution_count": 35,
   "metadata": {
    "collapsed": true
   },
   "outputs": [],
   "source": [
    "import csv\n",
    "\n",
    "centralities = []\n",
    "\n",
    "insts = list(ec.keys())\n",
    "\n",
    "with open(\"mag_output_inst/centrality_by_institution.csv\", \"w\") as f:\n",
    "    \n",
    "    writer = csv.DictWriter(f, fieldnames=[\"institution\", \"betweenness\", \"closeness\", \"degree\", \"eigenvector\"])\n",
    "    writer.writeheader()\n",
    "    for i in insts:\n",
    "\n",
    "        data = {\n",
    "            \"institution\": i,\n",
    "            \"betweenness\": bc[i],\n",
    "            \"closeness\": cc[i],\n",
    "            \"degree\": dc[i],\n",
    "            \"eigenvector\": ec[i]\n",
    "        }\n",
    "        writer.writerow(data)"
   ]
  },
  {
   "cell_type": "code",
   "execution_count": 69,
   "metadata": {
    "collapsed": false
   },
   "outputs": [
    {
     "name": "stdout",
     "output_type": "stream",
     "text": [
      "0.12058465286236297 0.18850750063564709\n",
      "0.187704797769844 0.19521800463946729\n"
     ]
    }
   ],
   "source": [
    "from networkx import transitivity\n",
    "t1 = transitivity(G1)\n",
    "t2 = transitivity(G2)\n",
    "s = transitivity(subview)\n",
    "t = transitivity(G)\n",
    "print(t1, t2)\n",
    "print(s, t)"
   ]
  },
  {
   "cell_type": "code",
   "execution_count": 70,
   "metadata": {
    "collapsed": false
   },
   "outputs": [
    {
     "name": "stdout",
     "output_type": "stream",
     "text": [
      "43\n",
      "64\n"
     ]
    }
   ],
   "source": [
    "from networkx.algorithms.community import greedy_modularity_communities\n",
    "\n",
    "c1 = list(greedy_modularity_communities(G1))\n",
    "c2 = list(greedy_modularity_communities(G2))\n",
    "print(len(c1))\n",
    "print(len(c2))"
   ]
  },
  {
   "cell_type": "code",
   "execution_count": 145,
   "metadata": {
    "collapsed": false
   },
   "outputs": [
    {
     "name": "stdout",
     "output_type": "stream",
     "text": [
      "university of miami south florida water management district\n",
      "lawrence berkeley national laboratory university of california berkeley\n",
      "lawrence berkeley national laboratory indian institute of science\n",
      "university of california berkeley world health organization\n",
      "united states environmental protection agency university of georgia\n",
      "united states environmental protection agency university of melbourne\n",
      "national autonomous university of mexico universidad michoacana de san nicolas de hidalgo\n",
      "world health organization bill melinda gates foundation\n",
      "world health organization world bank\n",
      "world health organization johns hopkins university\n",
      "world health organization university of london\n",
      "world health organization harvard university\n",
      "world health organization university of amsterdam\n",
      "world health organization unicef\n",
      "world health organization university of geneva\n",
      "world health organization university of washington\n",
      "world health organization university of queensland\n",
      "world health organization centers for disease control and prevention\n",
      "world health organization university of manchester\n",
      "university of toronto world bank\n",
      "university of toronto university of california davis\n",
      "university of toronto johns hopkins university\n",
      "university of toronto university of london\n",
      "university of toronto university of maryland baltimore\n",
      "university of toronto university of california san francisco\n",
      "university of toronto university of edinburgh\n",
      "university of toronto university of auckland\n",
      "university of toronto university of the philippines\n",
      "unicef world bank\n",
      "unicef aga khan university\n",
      "unicef johns hopkins university\n",
      "unicef university of london\n",
      "unicef centers for disease control and prevention\n",
      "unicef columbia university\n",
      "unicef save the children\n",
      "world bank george washington university\n",
      "world bank cornell university\n",
      "world bank harvard university\n",
      "world bank university of manchester\n",
      "world bank bill melinda gates foundation\n",
      "world bank makerere university\n",
      "world bank johns hopkins university\n",
      "world bank center for global development\n",
      "world bank university of london\n",
      "world bank aga khan university\n",
      "world bank pennsylvania state university\n",
      "world bank london school of economics and political science\n",
      "emory university university of los andes\n",
      "harvard university university of oxford\n",
      "harvard university university of queensland\n",
      "harvard university university of washington\n",
      "wageningen university and research centre united nations environment programme\n",
      "wageningen university and research centre international rice research institute\n",
      "wageningen university and research centre chinese academy of sciences\n",
      "pontifical catholic university of chile eth zurich\n",
      "overseas development institute university of london\n",
      "overseas development institute world agroforestry centre\n",
      "university of london university of aberdeen\n",
      "university of london university of california davis\n",
      "university of london aga khan university\n",
      "university of london johns hopkins university\n",
      "university of london universidade federal de pelotas\n",
      "university of london save the children\n",
      "university of london state university of campinas\n",
      "university of london university of california san francisco\n",
      "university of london university of edinburgh\n",
      "university of london united nations population fund\n",
      "university of london international centre for diarrhoeal disease research bangladesh\n",
      "university of london medical research council\n",
      "university of london university of bristol\n",
      "university of london university of auckland\n",
      "university of london university of the philippines\n",
      "university of london king s college london\n",
      "university of georgia cornell university\n",
      "university of melbourne monash university\n",
      "university of california davis university of edinburgh\n",
      "university of california davis university of auckland\n",
      "university of california davis johns hopkins university\n",
      "university of california davis university of the philippines\n",
      "university of east anglia university of cambridge\n",
      "columbia university research triangle park\n",
      "stanford university university of navarra\n",
      "international food policy research institute imperial college london\n",
      "cornell university makerere university\n",
      "cornell university johns hopkins university\n",
      "johns hopkins university bill melinda gates foundation\n",
      "johns hopkins university aga khan university\n",
      "johns hopkins university centers for disease control and prevention\n",
      "johns hopkins university save the children\n",
      "johns hopkins university ithaca college\n",
      "johns hopkins university universidade federal de pelotas\n",
      "johns hopkins university international centre for diarrhoeal disease research bangladesh\n",
      "johns hopkins university university of edinburgh\n",
      "johns hopkins university university of auckland\n",
      "johns hopkins university university of the philippines\n",
      "johns hopkins university medical research council\n",
      "pennsylvania state university university of manchester\n",
      "university of osnabruck york university\n",
      "university of osnabruck oko institut\n",
      "university of surrey carleton university\n",
      "carleton university poznan university of technology\n",
      "carleton university international institute for applied systems analysis\n",
      "university of aberdeen university of ghana\n",
      "university of aberdeen university of indonesia\n",
      "university of glasgow university of st andrews\n",
      "university of manchester center for global development\n",
      "university of oxford united states geological survey\n",
      "university of oxford john radcliffe hospital\n",
      "university of oxford kenya medical research institute\n",
      "university of wisconsin madison utah state university\n",
      "university of wisconsin madison hampton university\n",
      "centers for disease control and prevention aga khan university\n",
      "imperial college london university of cambridge\n",
      "university of bradford coventry university\n",
      "university college london university of lagos\n",
      "university of auckland university of edinburgh\n",
      "university of auckland university of the philippines\n",
      "university of washington university of queensland\n",
      "save the children aga khan university\n",
      "save the children all india institute of medical sciences\n",
      "save the children university of edinburgh\n",
      "save the children medical research council\n",
      "save the children brac university\n",
      "aga khan university international centre for diarrhoeal disease research bangladesh\n",
      "york university oko institut\n",
      "poznan university of technology international institute for applied systems analysis\n",
      "commonwealth scientific and industrial research organisation australian national university\n",
      "tsinghua university princeton university\n",
      "ecole polytechnique federale de lausanne max planck society\n",
      "ecole polytechnique federale de lausanne national technical university of athens\n",
      "ecole polytechnique federale de lausanne ludwig maximilian university of munich\n",
      "ecole polytechnique federale de lausanne norwegian institute for air research\n",
      "max planck society national technical university of athens\n",
      "max planck society ludwig maximilian university of munich\n",
      "max planck society norwegian institute for air research\n",
      "national technical university of athens ludwig maximilian university of munich\n",
      "national technical university of athens norwegian institute for air research\n",
      "ludwig maximilian university of munich norwegian institute for air research\n",
      "university of edinburgh university of the philippines\n",
      "university of edinburgh medical research council\n",
      "medical research council brac university\n",
      "united nations university world institute for development economics research\n",
      "utah state university hampton university\n",
      "idaho national laboratory oak ridge national laboratory\n",
      "university of helsinki finnish environment institute\n",
      "145\n",
      "2.56551724137931\n"
     ]
    }
   ],
   "source": [
    "from statistics import mean\n",
    "ws = []\n",
    "for e1,e2 in subview.edges():\n",
    "    print(e1, e2)\n",
    "    w = G1[e1][e2][\"weight\"]\n",
    "    ws.append(w)\n",
    "        \n",
    "print(len(ws))\n",
    "print(mean(ws))"
   ]
  },
  {
   "cell_type": "code",
   "execution_count": 140,
   "metadata": {
    "collapsed": false
   },
   "outputs": [
    {
     "ename": "NameError",
     "evalue": "name 'average' is not defined",
     "output_type": "error",
     "traceback": [
      "\u001b[0;31m---------------------------------------------------------------------------\u001b[0m",
      "\u001b[0;31mNameError\u001b[0m                                 Traceback (most recent call last)",
      "\u001b[0;32m<ipython-input-140-8f967be65e14>\u001b[0m in \u001b[0;36m<module>\u001b[0;34m\u001b[0m\n\u001b[0;32m----> 1\u001b[0;31m \u001b[0maverage\u001b[0m\u001b[0;34m(\u001b[0m\u001b[0mws\u001b[0m\u001b[0;34m)\u001b[0m\u001b[0;34m\u001b[0m\u001b[0m\n\u001b[0m",
      "\u001b[0;31mNameError\u001b[0m: name 'average' is not defined"
     ]
    }
   ],
   "source": [
    "average(ws)"
   ]
  },
  {
   "cell_type": "code",
   "execution_count": 136,
   "metadata": {
    "collapsed": false
   },
   "outputs": [
    {
     "data": {
      "text/plain": [
       "AtlasView(FilterAtlas(FilterAtlas({'south florida water management district': {'weight': 2, 'years': ['1999', '2001'], 'articles': ['82133252', '2128385801'], 'connection': 'domestic'}, 'united states forest service': {'weight': 1, 'years': ['1999'], 'articles': ['82133252'], 'connection': 'domestic'}, 'international centre of insect physiology and ecology': {'weight': 1, 'years': ['2008'], 'articles': ['2024349624'], 'connection': 'trans-continental'}, 'tulane university': {'weight': 1, 'years': ['2008'], 'articles': ['2024349624'], 'connection': 'domestic'}, 'university of liverpool': {'weight': 1, 'years': ['2008'], 'articles': ['2024349624'], 'connection': 'trans-continental'}}, <function FilterAdjacency.__getitem__.<locals>.new_node_ok at 0x7f9ccffe5ae8>), <function FilterAdjacency.__getitem__.<locals>.new_node_ok at 0x7f9ccffe57b8>))"
      ]
     },
     "execution_count": 136,
     "metadata": {},
     "output_type": "execute_result"
    }
   ],
   "source": [
    "graphs[0]['university of miami']\n",
    "#nx.info(graphs[0], n='south florida water management district')"
   ]
  },
  {
   "cell_type": "code",
   "execution_count": 128,
   "metadata": {
    "collapsed": false
   },
   "outputs": [
    {
     "ename": "AttributeError",
     "evalue": "module 'networkx' has no attribute '_atlas'",
     "output_type": "error",
     "traceback": [
      "\u001b[0;31m---------------------------------------------------------------------------\u001b[0m",
      "\u001b[0;31mAttributeError\u001b[0m                            Traceback (most recent call last)",
      "\u001b[0;32m<ipython-input-128-49152a241d00>\u001b[0m in \u001b[0;36m<module>\u001b[0;34m\u001b[0m\n\u001b[0;32m----> 1\u001b[0;31m \u001b[0mnx\u001b[0m\u001b[0;34m.\u001b[0m\u001b[0m_atlas\u001b[0m\u001b[0;34m\u001b[0m\u001b[0m\n\u001b[0m",
      "\u001b[0;31mAttributeError\u001b[0m: module 'networkx' has no attribute '_atlas'"
     ]
    }
   ],
   "source": [
    "nx._atlas"
   ]
  },
  {
   "cell_type": "code",
   "execution_count": 160,
   "metadata": {
    "collapsed": false
   },
   "outputs": [
    {
     "data": {
      "text/plain": [
       "503"
      ]
     },
     "execution_count": 160,
     "metadata": {},
     "output_type": "execute_result"
    }
   ],
   "source": [
    "len(G1subview.nodes())"
   ]
  },
  {
   "cell_type": "code",
   "execution_count": null,
   "metadata": {
    "collapsed": true
   },
   "outputs": [],
   "source": []
  }
 ],
 "metadata": {
  "kernelspec": {
   "display_name": "Python 3",
   "language": "python",
   "name": "python3"
  },
  "language_info": {
   "codemirror_mode": {
    "name": "ipython",
    "version": 3
   },
   "file_extension": ".py",
   "mimetype": "text/x-python",
   "name": "python",
   "nbconvert_exporter": "python",
   "pygments_lexer": "ipython3",
   "version": "3.6.5"
  }
 },
 "nbformat": 4,
 "nbformat_minor": 0
}
